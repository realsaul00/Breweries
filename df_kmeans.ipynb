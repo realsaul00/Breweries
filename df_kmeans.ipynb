{
 "cells": [
  {
   "cell_type": "code",
   "execution_count": 1,
   "metadata": {
    "collapsed": true
   },
   "outputs": [],
   "source": [
    "# import python libraries and packages\n",
    "import matplotlib.pyplot as plt\n",
    "%matplotlib inline  \n",
    "from  matplotlib import style\n",
    "import pandas as pd\n",
    "import numpy as np\n",
    "from matplotlib import rcParams\n",
    "rcParams.update({'figure.autolayout': True})"
   ]
  },
  {
   "cell_type": "code",
   "execution_count": 2,
   "metadata": {
    "collapsed": true
   },
   "outputs": [],
   "source": [
    "df = pd.read_csv('breweries.csv', encoding=\"latin1\")"
   ]
  },
  {
   "cell_type": "code",
   "execution_count": 3,
   "metadata": {},
   "outputs": [
    {
     "data": {
      "text/html": [
       "<div>\n",
       "<style scoped>\n",
       "    .dataframe tbody tr th:only-of-type {\n",
       "        vertical-align: middle;\n",
       "    }\n",
       "\n",
       "    .dataframe tbody tr th {\n",
       "        vertical-align: top;\n",
       "    }\n",
       "\n",
       "    .dataframe thead th {\n",
       "        text-align: right;\n",
       "    }\n",
       "</style>\n",
       "<table border=\"1\" class=\"dataframe\">\n",
       "  <thead>\n",
       "    <tr style=\"text-align: right;\">\n",
       "      <th></th>\n",
       "      <th>id</th>\n",
       "      <th>address</th>\n",
       "      <th>categories</th>\n",
       "      <th>city</th>\n",
       "      <th>country</th>\n",
       "      <th>hours</th>\n",
       "      <th>keys</th>\n",
       "      <th>latitude</th>\n",
       "      <th>longitude</th>\n",
       "      <th>menus</th>\n",
       "      <th>name</th>\n",
       "      <th>postalCode</th>\n",
       "      <th>province</th>\n",
       "      <th>twitter</th>\n",
       "      <th>websites</th>\n",
       "    </tr>\n",
       "  </thead>\n",
       "  <tbody>\n",
       "    <tr>\n",
       "      <th>0</th>\n",
       "      <td>AVweN1T_ByjofQCxwSPL</td>\n",
       "      <td>Syr Airport</td>\n",
       "      <td>Brewery</td>\n",
       "      <td>Syracuse</td>\n",
       "      <td>US</td>\n",
       "      <td>NaN</td>\n",
       "      <td>us/ny/syracuse/syrairport/2098450797</td>\n",
       "      <td>NaN</td>\n",
       "      <td>NaN</td>\n",
       "      <td>NaN</td>\n",
       "      <td>Adirondack Pub</td>\n",
       "      <td>NaN</td>\n",
       "      <td>NY</td>\n",
       "      <td>NaN</td>\n",
       "      <td>NaN</td>\n",
       "    </tr>\n",
       "    <tr>\n",
       "      <th>1</th>\n",
       "      <td>AVwdkF9ZIN2L1WUfxDfw</td>\n",
       "      <td>1320 N Doctor Martin Luther King Dr</td>\n",
       "      <td>Office and Cafeteria Brewer's Hill</td>\n",
       "      <td>Milwaukee</td>\n",
       "      <td>US</td>\n",
       "      <td>NaN</td>\n",
       "      <td>us/wi/milwaukee/1320ndoctormartinlutherkingdr/...</td>\n",
       "      <td>NaN</td>\n",
       "      <td>NaN</td>\n",
       "      <td>NaN</td>\n",
       "      <td>The Waterfront Cafe</td>\n",
       "      <td>53212</td>\n",
       "      <td>WI</td>\n",
       "      <td>NaN</td>\n",
       "      <td>NaN</td>\n",
       "    </tr>\n",
       "    <tr>\n",
       "      <th>2</th>\n",
       "      <td>AVwdlPkf_7pvs4fz7TMr</td>\n",
       "      <td>608 4th St</td>\n",
       "      <td>Brewery Downtown Clovis</td>\n",
       "      <td>Clovis</td>\n",
       "      <td>US</td>\n",
       "      <td>[{\"day\":\"Wed - Sat\",\"hour\":\"5:00 PM - 8:00 PM\"}]</td>\n",
       "      <td>us/ca/clovis/6084thst/-932885010</td>\n",
       "      <td>NaN</td>\n",
       "      <td>NaN</td>\n",
       "      <td>NaN</td>\n",
       "      <td>559 Local Brewing</td>\n",
       "      <td>93612</td>\n",
       "      <td>CA</td>\n",
       "      <td>NaN</td>\n",
       "      <td>http://fresnobrewing.com</td>\n",
       "    </tr>\n",
       "    <tr>\n",
       "      <th>3</th>\n",
       "      <td>AVwcucY0kufWRAb5yWbU</td>\n",
       "      <td>1103 Mills St</td>\n",
       "      <td>breweries &amp; brew pubs</td>\n",
       "      <td>Black Earth</td>\n",
       "      <td>US</td>\n",
       "      <td>NaN</td>\n",
       "      <td>us/wi/blackearth/1103millsst/-757413411</td>\n",
       "      <td>43.138995</td>\n",
       "      <td>-89.747904</td>\n",
       "      <td>NaN</td>\n",
       "      <td>Shack The</td>\n",
       "      <td>53515-9454</td>\n",
       "      <td>WI</td>\n",
       "      <td>NaN</td>\n",
       "      <td>NaN</td>\n",
       "    </tr>\n",
       "    <tr>\n",
       "      <th>4</th>\n",
       "      <td>AVweCkd5kufWRAb5_eaI</td>\n",
       "      <td>130 W Riverside Dr</td>\n",
       "      <td>Brewery and Gastropub Downtown Jeffersonville</td>\n",
       "      <td>Jeffersonville</td>\n",
       "      <td>US</td>\n",
       "      <td>[{\"day\":\"Wed - Thu\",\"hour\":\"3:00 PM - 9:00 PM\"...</td>\n",
       "      <td>us/utica/jeffersonville/130wriversidedr/787280564</td>\n",
       "      <td>NaN</td>\n",
       "      <td>NaN</td>\n",
       "      <td>NaN</td>\n",
       "      <td>Flat12 Bierworks</td>\n",
       "      <td>47130</td>\n",
       "      <td>Utica</td>\n",
       "      <td>flat12bierwerks</td>\n",
       "      <td>http://flat12.me/brewery</td>\n",
       "    </tr>\n",
       "  </tbody>\n",
       "</table>\n",
       "</div>"
      ],
      "text/plain": [
       "                     id                              address  \\\n",
       "0  AVweN1T_ByjofQCxwSPL                          Syr Airport   \n",
       "1  AVwdkF9ZIN2L1WUfxDfw  1320 N Doctor Martin Luther King Dr   \n",
       "2  AVwdlPkf_7pvs4fz7TMr                           608 4th St   \n",
       "3  AVwcucY0kufWRAb5yWbU                        1103 Mills St   \n",
       "4  AVweCkd5kufWRAb5_eaI                   130 W Riverside Dr   \n",
       "\n",
       "                                      categories            city country  \\\n",
       "0                                        Brewery        Syracuse      US   \n",
       "1             Office and Cafeteria Brewer's Hill       Milwaukee      US   \n",
       "2                        Brewery Downtown Clovis          Clovis      US   \n",
       "3                          breweries & brew pubs     Black Earth      US   \n",
       "4  Brewery and Gastropub Downtown Jeffersonville  Jeffersonville      US   \n",
       "\n",
       "                                               hours  \\\n",
       "0                                                NaN   \n",
       "1                                                NaN   \n",
       "2   [{\"day\":\"Wed - Sat\",\"hour\":\"5:00 PM - 8:00 PM\"}]   \n",
       "3                                                NaN   \n",
       "4  [{\"day\":\"Wed - Thu\",\"hour\":\"3:00 PM - 9:00 PM\"...   \n",
       "\n",
       "                                                keys   latitude  longitude  \\\n",
       "0               us/ny/syracuse/syrairport/2098450797        NaN        NaN   \n",
       "1  us/wi/milwaukee/1320ndoctormartinlutherkingdr/...        NaN        NaN   \n",
       "2                   us/ca/clovis/6084thst/-932885010        NaN        NaN   \n",
       "3            us/wi/blackearth/1103millsst/-757413411  43.138995 -89.747904   \n",
       "4  us/utica/jeffersonville/130wriversidedr/787280564        NaN        NaN   \n",
       "\n",
       "  menus                 name  postalCode province          twitter  \\\n",
       "0   NaN       Adirondack Pub         NaN       NY              NaN   \n",
       "1   NaN  The Waterfront Cafe       53212       WI              NaN   \n",
       "2   NaN    559 Local Brewing       93612       CA              NaN   \n",
       "3   NaN            Shack The  53515-9454       WI              NaN   \n",
       "4   NaN     Flat12 Bierworks       47130    Utica  flat12bierwerks   \n",
       "\n",
       "                   websites  \n",
       "0                       NaN  \n",
       "1                       NaN  \n",
       "2  http://fresnobrewing.com  \n",
       "3                       NaN  \n",
       "4  http://flat12.me/brewery  "
      ]
     },
     "execution_count": 3,
     "metadata": {},
     "output_type": "execute_result"
    }
   ],
   "source": [
    "df.head()"
   ]
  },
  {
   "cell_type": "code",
   "execution_count": 4,
   "metadata": {
    "collapsed": true,
    "scrolled": true
   },
   "outputs": [],
   "source": [
    "kdf = df.drop(['hours','keys','menus','city', 'province','postalCode','websites','categories','id','country','name','twitter','address'], axis=1)"
   ]
  },
  {
   "cell_type": "code",
   "execution_count": 5,
   "metadata": {},
   "outputs": [
    {
     "data": {
      "text/html": [
       "<div>\n",
       "<style scoped>\n",
       "    .dataframe tbody tr th:only-of-type {\n",
       "        vertical-align: middle;\n",
       "    }\n",
       "\n",
       "    .dataframe tbody tr th {\n",
       "        vertical-align: top;\n",
       "    }\n",
       "\n",
       "    .dataframe thead th {\n",
       "        text-align: right;\n",
       "    }\n",
       "</style>\n",
       "<table border=\"1\" class=\"dataframe\">\n",
       "  <thead>\n",
       "    <tr style=\"text-align: right;\">\n",
       "      <th></th>\n",
       "      <th>latitude</th>\n",
       "      <th>longitude</th>\n",
       "    </tr>\n",
       "  </thead>\n",
       "  <tbody>\n",
       "    <tr>\n",
       "      <th>0</th>\n",
       "      <td>NaN</td>\n",
       "      <td>NaN</td>\n",
       "    </tr>\n",
       "    <tr>\n",
       "      <th>1</th>\n",
       "      <td>NaN</td>\n",
       "      <td>NaN</td>\n",
       "    </tr>\n",
       "    <tr>\n",
       "      <th>2</th>\n",
       "      <td>NaN</td>\n",
       "      <td>NaN</td>\n",
       "    </tr>\n",
       "    <tr>\n",
       "      <th>3</th>\n",
       "      <td>43.138995</td>\n",
       "      <td>-89.747904</td>\n",
       "    </tr>\n",
       "    <tr>\n",
       "      <th>4</th>\n",
       "      <td>NaN</td>\n",
       "      <td>NaN</td>\n",
       "    </tr>\n",
       "  </tbody>\n",
       "</table>\n",
       "</div>"
      ],
      "text/plain": [
       "    latitude  longitude\n",
       "0        NaN        NaN\n",
       "1        NaN        NaN\n",
       "2        NaN        NaN\n",
       "3  43.138995 -89.747904\n",
       "4        NaN        NaN"
      ]
     },
     "execution_count": 5,
     "metadata": {},
     "output_type": "execute_result"
    }
   ],
   "source": [
    "kdf.head()"
   ]
  },
  {
   "cell_type": "code",
   "execution_count": 6,
   "metadata": {
    "collapsed": true
   },
   "outputs": [],
   "source": [
    "kdf1 = kdf.dropna()"
   ]
  },
  {
   "cell_type": "code",
   "execution_count": 7,
   "metadata": {},
   "outputs": [
    {
     "data": {
      "text/html": [
       "<div>\n",
       "<style scoped>\n",
       "    .dataframe tbody tr th:only-of-type {\n",
       "        vertical-align: middle;\n",
       "    }\n",
       "\n",
       "    .dataframe tbody tr th {\n",
       "        vertical-align: top;\n",
       "    }\n",
       "\n",
       "    .dataframe thead th {\n",
       "        text-align: right;\n",
       "    }\n",
       "</style>\n",
       "<table border=\"1\" class=\"dataframe\">\n",
       "  <thead>\n",
       "    <tr style=\"text-align: right;\">\n",
       "      <th></th>\n",
       "      <th>latitude</th>\n",
       "      <th>longitude</th>\n",
       "    </tr>\n",
       "  </thead>\n",
       "  <tbody>\n",
       "    <tr>\n",
       "      <th>3</th>\n",
       "      <td>43.138995</td>\n",
       "      <td>-89.747904</td>\n",
       "    </tr>\n",
       "    <tr>\n",
       "      <th>5</th>\n",
       "      <td>47.734648</td>\n",
       "      <td>-122.149773</td>\n",
       "    </tr>\n",
       "    <tr>\n",
       "      <th>8</th>\n",
       "      <td>30.225785</td>\n",
       "      <td>-97.952191</td>\n",
       "    </tr>\n",
       "    <tr>\n",
       "      <th>10</th>\n",
       "      <td>44.068416</td>\n",
       "      <td>-71.143910</td>\n",
       "    </tr>\n",
       "    <tr>\n",
       "      <th>14</th>\n",
       "      <td>41.514249</td>\n",
       "      <td>-71.315904</td>\n",
       "    </tr>\n",
       "  </tbody>\n",
       "</table>\n",
       "</div>"
      ],
      "text/plain": [
       "     latitude   longitude\n",
       "3   43.138995  -89.747904\n",
       "5   47.734648 -122.149773\n",
       "8   30.225785  -97.952191\n",
       "10  44.068416  -71.143910\n",
       "14  41.514249  -71.315904"
      ]
     },
     "execution_count": 7,
     "metadata": {},
     "output_type": "execute_result"
    }
   ],
   "source": [
    "kdf1.head()"
   ]
  },
  {
   "cell_type": "code",
   "execution_count": 8,
   "metadata": {
    "collapsed": true
   },
   "outputs": [],
   "source": [
    "kdf1.to_csv(\"kdf.csv\", index=False)"
   ]
  },
  {
   "cell_type": "code",
   "execution_count": 9,
   "metadata": {
    "collapsed": true
   },
   "outputs": [],
   "source": [
    "dfa = np.array(kdf1)"
   ]
  },
  {
   "cell_type": "code",
   "execution_count": 10,
   "metadata": {},
   "outputs": [
    {
     "name": "stdout",
     "output_type": "stream",
     "text": [
      "Enter desired number of clusters: 15\n",
      "Enter desired random state: 22\n"
     ]
    }
   ],
   "source": [
    "from sklearn.cluster import KMeans\n",
    "\n",
    "a = int(input(\"Enter desired number of clusters: \"))\n",
    "b = int(input(\"Enter desired random state: \"))\n",
    "# Number of clusters\n",
    "dfa_kmeans = KMeans(n_clusters=a, n_init=b)\n",
    "# Fitting the input data\n",
    "dfa_kmeans = dfa_kmeans.fit(dfa)\n",
    "# Getting the cluster labels\n",
    "dfa_labels = dfa_kmeans.predict(dfa)\n",
    "# Centroid values\n",
    "dfa_centroids = dfa_kmeans.cluster_centers_    "
   ]
  },
  {
   "cell_type": "code",
   "execution_count": 11,
   "metadata": {},
   "outputs": [
    {
     "data": {
      "text/plain": [
       "<matplotlib.collections.PathCollection at 0x11177c748>"
      ]
     },
     "execution_count": 11,
     "metadata": {},
     "output_type": "execute_result"
    },
    {
     "name": "stderr",
     "output_type": "stream",
     "text": [
      "/Users/saultamariz/anaconda/lib/python3.6/site-packages/matplotlib/figure.py:2267: UserWarning: This figure includes Axes that are not compatible with tight_layout, so results might be incorrect.\n",
      "  warnings.warn(\"This figure includes Axes that are not compatible \"\n"
     ]
    },
    {
     "data": {
      "image/png": "[encoded data removed]",
      "text/plain": [
       "<Figure size 432x288 with 1 Axes>"
      ]
     },
     "metadata": {},
     "output_type": "display_data"
    }
   ],
   "source": [
    "plt.scatter(dfa[:,1], dfa[:,0], c=dfa_labels, s=20, cmap='viridis')\n",
    "\n",
    "centers = dfa_kmeans.cluster_centers_\n",
    "plt.scatter(centers[:,1], centers[:,0], c='black', marker = 'x', s=50, alpha=0.5)"
   ]
  },
  {
   "cell_type": "code",
   "execution_count": 12,
   "metadata": {},
   "outputs": [
    {
     "name": "stdout",
     "output_type": "stream",
     "text": [
      "[[  35.22486941  -81.96365704]\n",
      " [  37.74900884 -121.73464919]\n",
      " [  44.89439399    6.56921424]\n",
      " [ -21.83744249  111.60496941]\n",
      " [  33.67900656 -116.11972274]\n",
      " [  41.09778785  -74.60896012]\n",
      " [  41.98915754  -90.71843843]\n",
      " [  46.15648202 -121.6237217 ]\n",
      " [ -21.94926527  -48.6156918 ]\n",
      " [  31.47965128  -96.20802951]\n",
      " [  39.76017543 -106.29731359]\n",
      " [  27.72442101  -81.63415918]\n",
      " [  21.04743859 -157.46260067]\n",
      " [  60.96961859 -146.84452944]\n",
      " [  41.18952063  -83.61008005]]\n"
     ]
    }
   ],
   "source": [
    "print(dfa_centroids)"
   ]
  },
  {
   "cell_type": "code",
   "execution_count": 13,
   "metadata": {},
   "outputs": [
    {
     "name": "stderr",
     "output_type": "stream",
     "text": [
      "/Users/saultamariz/anaconda/lib/python3.6/site-packages/ipykernel_launcher.py:2: SettingWithCopyWarning: \n",
      "A value is trying to be set on a copy of a slice from a DataFrame.\n",
      "Try using .loc[row_indexer,col_indexer] = value instead\n",
      "\n",
      "See the caveats in the documentation: http://pandas.pydata.org/pandas-docs/stable/indexing.html#indexing-view-versus-copy\n",
      "  \n"
     ]
    }
   ],
   "source": [
    "df_tr = kdf1\n",
    "df_tr['clusters'] = dfa_labels"
   ]
  },
  {
   "cell_type": "code",
   "execution_count": 14,
   "metadata": {},
   "outputs": [
    {
     "data": {
      "text/html": [
       "<div>\n",
       "<style scoped>\n",
       "    .dataframe tbody tr th:only-of-type {\n",
       "        vertical-align: middle;\n",
       "    }\n",
       "\n",
       "    .dataframe tbody tr th {\n",
       "        vertical-align: top;\n",
       "    }\n",
       "\n",
       "    .dataframe thead th {\n",
       "        text-align: right;\n",
       "    }\n",
       "</style>\n",
       "<table border=\"1\" class=\"dataframe\">\n",
       "  <thead>\n",
       "    <tr style=\"text-align: right;\">\n",
       "      <th></th>\n",
       "      <th>latitude</th>\n",
       "      <th>longitude</th>\n",
       "      <th>clusters</th>\n",
       "    </tr>\n",
       "  </thead>\n",
       "  <tbody>\n",
       "    <tr>\n",
       "      <th>3</th>\n",
       "      <td>43.138995</td>\n",
       "      <td>-89.747904</td>\n",
       "      <td>6</td>\n",
       "    </tr>\n",
       "    <tr>\n",
       "      <th>5</th>\n",
       "      <td>47.734648</td>\n",
       "      <td>-122.149773</td>\n",
       "      <td>7</td>\n",
       "    </tr>\n",
       "    <tr>\n",
       "      <th>8</th>\n",
       "      <td>30.225785</td>\n",
       "      <td>-97.952191</td>\n",
       "      <td>9</td>\n",
       "    </tr>\n",
       "    <tr>\n",
       "      <th>10</th>\n",
       "      <td>44.068416</td>\n",
       "      <td>-71.143910</td>\n",
       "      <td>5</td>\n",
       "    </tr>\n",
       "    <tr>\n",
       "      <th>14</th>\n",
       "      <td>41.514249</td>\n",
       "      <td>-71.315904</td>\n",
       "      <td>5</td>\n",
       "    </tr>\n",
       "  </tbody>\n",
       "</table>\n",
       "</div>"
      ],
      "text/plain": [
       "     latitude   longitude  clusters\n",
       "3   43.138995  -89.747904         6\n",
       "5   47.734648 -122.149773         7\n",
       "8   30.225785  -97.952191         9\n",
       "10  44.068416  -71.143910         5\n",
       "14  41.514249  -71.315904         5"
      ]
     },
     "execution_count": 14,
     "metadata": {},
     "output_type": "execute_result"
    }
   ],
   "source": [
    "df_tr.head()"
   ]
  },
  {
   "cell_type": "code",
   "execution_count": 15,
   "metadata": {},
   "outputs": [
    {
     "data": {
      "text/plain": [
       "<matplotlib.axes._subplots.AxesSubplot at 0x1124dc9b0>"
      ]
     },
     "execution_count": 15,
     "metadata": {},
     "output_type": "execute_result"
    },
    {
     "name": "stderr",
     "output_type": "stream",
     "text": [
      "/Users/saultamariz/anaconda/lib/python3.6/site-packages/matplotlib/figure.py:2267: UserWarning: This figure includes Axes that are not compatible with tight_layout, so results might be incorrect.\n",
      "  warnings.warn(\"This figure includes Axes that are not compatible \"\n"
     ]
    },
    {
     "data": {
      "image/png": "[encoded data removed]",
      "text/plain": [
       "<Figure size 432x288 with 1 Axes>"
      ]
     },
     "metadata": {},
     "output_type": "display_data"
    }
   ],
   "source": [
    "df_tr['clusters'].plot(kind='hist')"
   ]
  },
  {
   "cell_type": "code",
   "execution_count": 16,
   "metadata": {},
   "outputs": [
    {
     "data": {
      "text/plain": [
       "array([ 961, 1221,  191,   20, 1302, 2204, 1289, 1334,   29,  862,  897,\n",
       "        659,   55,   45, 1255])"
      ]
     },
     "execution_count": 16,
     "metadata": {},
     "output_type": "execute_result"
    }
   ],
   "source": [
    "#cluster bins \n",
    "np.bincount(dfa_labels)"
   ]
  },
  {
   "cell_type": "code",
   "execution_count": null,
   "metadata": {},
   "outputs": [],
   "source": []
  },
  {
   "cell_type": "code",
   "execution_count": null,
   "metadata": {
    "collapsed": true
   },
   "outputs": [],
   "source": []
  },
  {
   "cell_type": "code",
   "execution_count": null,
   "metadata": {
    "collapsed": true
   },
   "outputs": [],
   "source": []
  },
  {
   "cell_type": "code",
   "execution_count": null,
   "metadata": {
    "collapsed": true
   },
   "outputs": [],
   "source": []
  }
 ],
 "metadata": {
  "kernelspec": {
   "display_name": "Python 3",
   "language": "python",
   "name": "python3"
  },
  "language_info": {
   "codemirror_mode": {
    "name": "ipython",
    "version": 3
   },
   "file_extension": ".py",
   "mimetype": "text/x-python",
   "name": "python",
   "nbconvert_exporter": "python",
   "pygments_lexer": "ipython3",
   "version": "3.6.1"
  }
 },
 "nbformat": 4,
 "nbformat_minor": 2
}
