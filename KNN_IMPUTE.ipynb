{
 "cells": [
  {
   "cell_type": "code",
   "execution_count": 1,
   "metadata": {
    "collapsed": true
   },
   "outputs": [],
   "source": [
    "# import libraries\n",
    "import pandas as pd\n",
    "from sklearn import neighbors\n",
    "import numpy as np\n",
    "%matplotlib inline  \n",
    "import seaborn"
   ]
  },
  {
   "cell_type": "code",
   "execution_count": 2,
   "metadata": {
    "collapsed": true
   },
   "outputs": [],
   "source": [
    "# load previous dataset\n",
    "df = pd.read_csv('df3.csv', encoding=\"latin1\")"
   ]
  },
  {
   "cell_type": "code",
   "execution_count": 3,
   "metadata": {
    "collapsed": true
   },
   "outputs": [],
   "source": [
    "# remove \"-\" from the postalCode column and replace the name of the column to zipcode\n",
    "df['zipcode'] = df.postalCode.str.replace(\"-\", \"\")"
   ]
  },
  {
   "cell_type": "code",
   "execution_count": 4,
   "metadata": {},
   "outputs": [
    {
     "data": {
      "text/html": [
       "<div>\n",
       "<style scoped>\n",
       "    .dataframe tbody tr th:only-of-type {\n",
       "        vertical-align: middle;\n",
       "    }\n",
       "\n",
       "    .dataframe tbody tr th {\n",
       "        vertical-align: top;\n",
       "    }\n",
       "\n",
       "    .dataframe thead th {\n",
       "        text-align: right;\n",
       "    }\n",
       "</style>\n",
       "<table border=\"1\" class=\"dataframe\">\n",
       "  <thead>\n",
       "    <tr style=\"text-align: right;\">\n",
       "      <th></th>\n",
       "      <th>id</th>\n",
       "      <th>address</th>\n",
       "      <th>categories</th>\n",
       "      <th>city</th>\n",
       "      <th>country</th>\n",
       "      <th>latitude</th>\n",
       "      <th>longitude</th>\n",
       "      <th>name</th>\n",
       "      <th>postalCode</th>\n",
       "      <th>twitter</th>\n",
       "      <th>websites</th>\n",
       "      <th>no_twitter</th>\n",
       "      <th>no_website</th>\n",
       "      <th>no_menu</th>\n",
       "      <th>state</th>\n",
       "      <th>address_location</th>\n",
       "      <th>clusters</th>\n",
       "      <th>cluster_name</th>\n",
       "      <th>zipcode</th>\n",
       "    </tr>\n",
       "  </thead>\n",
       "  <tbody>\n",
       "    <tr>\n",
       "      <th>0</th>\n",
       "      <td>AVwdQuH3ByjofQCxnPfO</td>\n",
       "      <td>1660 Champa St</td>\n",
       "      <td>breweries , wineries</td>\n",
       "      <td>Denver</td>\n",
       "      <td>US</td>\n",
       "      <td>39.747169</td>\n",
       "      <td>-104.993057</td>\n",
       "      <td>D'vine Wine Denver</td>\n",
       "      <td>80202</td>\n",
       "      <td>NaN</td>\n",
       "      <td>http://www.dvinewineusa.com</td>\n",
       "      <td>True</td>\n",
       "      <td>False</td>\n",
       "      <td>True</td>\n",
       "      <td>CO</td>\n",
       "      <td>1660 Champa St, Denver, CO, 80202, US</td>\n",
       "      <td>3</td>\n",
       "      <td>den</td>\n",
       "      <td>80202</td>\n",
       "    </tr>\n",
       "    <tr>\n",
       "      <th>1</th>\n",
       "      <td>AVwc2E2VIN2L1WUfphDU</td>\n",
       "      <td>1555 Blake St</td>\n",
       "      <td>music venue,bar , music venue,bar,pubs,bars , ...</td>\n",
       "      <td>Denver</td>\n",
       "      <td>US</td>\n",
       "      <td>39.750288</td>\n",
       "      <td>-104.999768</td>\n",
       "      <td>World of Beer</td>\n",
       "      <td>80202</td>\n",
       "      <td>mapquest</td>\n",
       "      <td>http://worldofbeer.com/Locations/Lodo,http://m...</td>\n",
       "      <td>False</td>\n",
       "      <td>False</td>\n",
       "      <td>True</td>\n",
       "      <td>CO</td>\n",
       "      <td>1555 Blake St, Denver, CO, 80202, US</td>\n",
       "      <td>3</td>\n",
       "      <td>den</td>\n",
       "      <td>80202</td>\n",
       "    </tr>\n",
       "    <tr>\n",
       "      <th>2</th>\n",
       "      <td>AVwdhk0DIN2L1WUfwqtr</td>\n",
       "      <td>7260 W Alaska Dr</td>\n",
       "      <td>music venue,bars , pubs,pubs,breweries,bar</td>\n",
       "      <td>Denver</td>\n",
       "      <td>US</td>\n",
       "      <td>39.709068</td>\n",
       "      <td>-105.077258</td>\n",
       "      <td>World of Beer</td>\n",
       "      <td>80226</td>\n",
       "      <td>NaN</td>\n",
       "      <td>http://worldofbeer.com/Locations/Belmar</td>\n",
       "      <td>True</td>\n",
       "      <td>False</td>\n",
       "      <td>True</td>\n",
       "      <td>CO</td>\n",
       "      <td>7260 W Alaska Dr, Denver, CO, 80226, US</td>\n",
       "      <td>3</td>\n",
       "      <td>den</td>\n",
       "      <td>80226</td>\n",
       "    </tr>\n",
       "    <tr>\n",
       "      <th>3</th>\n",
       "      <td>AVwcizXVkufWRAb5wVk8</td>\n",
       "      <td>1257 W 120th Ave</td>\n",
       "      <td>american restaurant,brewery,fast food restaura...</td>\n",
       "      <td>Denver</td>\n",
       "      <td>US</td>\n",
       "      <td>39.914928</td>\n",
       "      <td>-105.000843</td>\n",
       "      <td>C.b. &amp; Potts</td>\n",
       "      <td>80234</td>\n",
       "      <td>NaN</td>\n",
       "      <td>http://cbpotts.com</td>\n",
       "      <td>True</td>\n",
       "      <td>False</td>\n",
       "      <td>True</td>\n",
       "      <td>CO</td>\n",
       "      <td>1257 W 120th Ave, Denver, CO, 80234, US</td>\n",
       "      <td>3</td>\n",
       "      <td>den</td>\n",
       "      <td>80234</td>\n",
       "    </tr>\n",
       "    <tr>\n",
       "      <th>4</th>\n",
       "      <td>AVwdQdHXIN2L1WUft5XE</td>\n",
       "      <td>W Jeppesen Terminal 5</td>\n",
       "      <td>airport lounge,brewery,bar</td>\n",
       "      <td>Denver</td>\n",
       "      <td>US</td>\n",
       "      <td>39.848760</td>\n",
       "      <td>-104.673743</td>\n",
       "      <td>Boulder Beer Tap House</td>\n",
       "      <td>80249</td>\n",
       "      <td>NaN</td>\n",
       "      <td>http://boulderbeer.com</td>\n",
       "      <td>True</td>\n",
       "      <td>False</td>\n",
       "      <td>True</td>\n",
       "      <td>CO</td>\n",
       "      <td>W Jeppesen Terminal 5, Denver, CO, 80249, US</td>\n",
       "      <td>3</td>\n",
       "      <td>den</td>\n",
       "      <td>80249</td>\n",
       "    </tr>\n",
       "  </tbody>\n",
       "</table>\n",
       "</div>"
      ],
      "text/plain": [
       "                     id                address  \\\n",
       "0  AVwdQuH3ByjofQCxnPfO         1660 Champa St   \n",
       "1  AVwc2E2VIN2L1WUfphDU          1555 Blake St   \n",
       "2  AVwdhk0DIN2L1WUfwqtr       7260 W Alaska Dr   \n",
       "3  AVwcizXVkufWRAb5wVk8       1257 W 120th Ave   \n",
       "4  AVwdQdHXIN2L1WUft5XE  W Jeppesen Terminal 5   \n",
       "\n",
       "                                          categories    city country  \\\n",
       "0                               breweries , wineries  Denver      US   \n",
       "1  music venue,bar , music venue,bar,pubs,bars , ...  Denver      US   \n",
       "2         music venue,bars , pubs,pubs,breweries,bar  Denver      US   \n",
       "3  american restaurant,brewery,fast food restaura...  Denver      US   \n",
       "4                         airport lounge,brewery,bar  Denver      US   \n",
       "\n",
       "    latitude   longitude                    name postalCode   twitter  \\\n",
       "0  39.747169 -104.993057      D'vine Wine Denver      80202       NaN   \n",
       "1  39.750288 -104.999768           World of Beer      80202  mapquest   \n",
       "2  39.709068 -105.077258           World of Beer      80226       NaN   \n",
       "3  39.914928 -105.000843            C.b. & Potts      80234       NaN   \n",
       "4  39.848760 -104.673743  Boulder Beer Tap House      80249       NaN   \n",
       "\n",
       "                                            websites  no_twitter  no_website  \\\n",
       "0                        http://www.dvinewineusa.com        True       False   \n",
       "1  http://worldofbeer.com/Locations/Lodo,http://m...       False       False   \n",
       "2            http://worldofbeer.com/Locations/Belmar        True       False   \n",
       "3                                 http://cbpotts.com        True       False   \n",
       "4                             http://boulderbeer.com        True       False   \n",
       "\n",
       "   no_menu state                              address_location  clusters  \\\n",
       "0     True    CO         1660 Champa St, Denver, CO, 80202, US         3   \n",
       "1     True    CO          1555 Blake St, Denver, CO, 80202, US         3   \n",
       "2     True    CO       7260 W Alaska Dr, Denver, CO, 80226, US         3   \n",
       "3     True    CO       1257 W 120th Ave, Denver, CO, 80234, US         3   \n",
       "4     True    CO  W Jeppesen Terminal 5, Denver, CO, 80249, US         3   \n",
       "\n",
       "  cluster_name zipcode  \n",
       "0          den   80202  \n",
       "1          den   80202  \n",
       "2          den   80226  \n",
       "3          den   80234  \n",
       "4          den   80249  "
      ]
     },
     "execution_count": 4,
     "metadata": {},
     "output_type": "execute_result"
    }
   ],
   "source": [
    "#print head to see the changes\n",
    "df.head()"
   ]
  },
  {
   "cell_type": "code",
   "execution_count": 5,
   "metadata": {
    "collapsed": true
   },
   "outputs": [],
   "source": [
    "# drop na's for latitude, longitude, and zipcode to create knn model\n",
    "df2 = df.dropna(subset=['latitude', 'longitude', 'zipcode'])"
   ]
  },
  {
   "cell_type": "code",
   "execution_count": 6,
   "metadata": {
    "collapsed": true
   },
   "outputs": [],
   "source": [
    "# create an object that transforms latitude and longitude to a matrix\n",
    "# create an object that transforms zipcode to an array\n",
    "x = df2.as_matrix(columns=['latitude', 'longitude'])\n",
    "y = np.array(df2['zipcode'])"
   ]
  },
  {
   "cell_type": "code",
   "execution_count": 7,
   "metadata": {},
   "outputs": [
    {
     "name": "stdout",
     "output_type": "stream",
     "text": [
      "0.9053461875547765\n"
     ]
    }
   ],
   "source": [
    "# build a knn model that will predict zipcodes when k = 3\n",
    "knn_clf1 = neighbors.KNeighborsClassifier(3, weights = 'uniform', metric='cityblock')\n",
    "trained_model1 = knn_clf1.fit(x, y)\n",
    "print(trained_model1.score(x, y))"
   ]
  },
  {
   "cell_type": "code",
   "execution_count": 8,
   "metadata": {},
   "outputs": [
    {
     "name": "stdout",
     "output_type": "stream",
     "text": [
      "0.845749342681858\n"
     ]
    }
   ],
   "source": [
    "# build a knn model that will predict zipcodes when k = 5\n",
    "knn_clf2 = neighbors.KNeighborsClassifier(5, weights = 'uniform', metric='cityblock')\n",
    "trained_model2 = knn_clf2.fit(x, y)\n",
    "print(trained_model2.score(x, y))"
   ]
  },
  {
   "cell_type": "code",
   "execution_count": 9,
   "metadata": {},
   "outputs": [
    {
     "name": "stdout",
     "output_type": "stream",
     "text": [
      "0.761612620508326\n"
     ]
    }
   ],
   "source": [
    "# build a knn model that will predict zipcodes when k = 11\n",
    "knn_clf3 = neighbors.KNeighborsClassifier(11, weights = 'uniform', metric='cityblock')\n",
    "trained_model3 = knn_clf3.fit(x, y)\n",
    "print(trained_model3.score(x, y))"
   ]
  },
  {
   "cell_type": "code",
   "execution_count": 10,
   "metadata": {
    "collapsed": true
   },
   "outputs": [],
   "source": [
    "# create a test point to see if model words\n",
    "x_test = np.array([[39.739752,-104.945080]])"
   ]
  },
  {
   "cell_type": "code",
   "execution_count": 11,
   "metadata": {},
   "outputs": [
    {
     "data": {
      "text/plain": [
       "array(['80206'], dtype=object)"
      ]
     },
     "execution_count": 11,
     "metadata": {},
     "output_type": "execute_result"
    }
   ],
   "source": [
    "# see results of the predicttion for test point\n",
    "trained_model1.predict(x_test)"
   ]
  },
  {
   "cell_type": "code",
   "execution_count": 12,
   "metadata": {
    "collapsed": true
   },
   "outputs": [],
   "source": [
    "# set x1 equal to x \n",
    "x1 = x"
   ]
  },
  {
   "cell_type": "code",
   "execution_count": 13,
   "metadata": {
    "collapsed": true
   },
   "outputs": [],
   "source": [
    "# run knn model on missing value observations array\n",
    "zipcodes = trained_model1.predict(x1)"
   ]
  },
  {
   "cell_type": "code",
   "execution_count": 14,
   "metadata": {},
   "outputs": [
    {
     "data": {
      "text/plain": [
       "array(['80265', '80202', '80226', '80234', '80249', '80205', '80247',\n",
       "       '80223', '80219', '80216', '80205', '80205', '80202', '80205',\n",
       "       '80204', '80205', '80265', '80211', '80205', '80212', '80249',\n",
       "       '80203', '80202', '80210', '80234', '80203', '80211', '80203',\n",
       "       '80211', '80216', '80205', '80211', '80205', '80204', '80211',\n",
       "       '80206', '80202', '80205', '80203', '80202', '80217', '80204',\n",
       "       '80228', '80205', '80202', '80206', '80211', '80221', '80211',\n",
       "       '80202'], dtype=object)"
      ]
     },
     "execution_count": 14,
     "metadata": {},
     "output_type": "execute_result"
    }
   ],
   "source": [
    "# inspect first 50 observations \n",
    "zipcodes[0:50]"
   ]
  },
  {
   "cell_type": "code",
   "execution_count": 15,
   "metadata": {
    "collapsed": true
   },
   "outputs": [],
   "source": [
    "# create an object with missing zip code values\n",
    "zipcode_is_na = df.zipcode.isna()"
   ]
  },
  {
   "cell_type": "code",
   "execution_count": 16,
   "metadata": {
    "collapsed": true
   },
   "outputs": [],
   "source": [
    "# create to data frames with missing and none missing values\n",
    "df_new = df[zipcode_is_na]\n",
    "df_new2 = df[-zipcode_is_na]"
   ]
  },
  {
   "cell_type": "code",
   "execution_count": 17,
   "metadata": {
    "collapsed": true
   },
   "outputs": [],
   "source": [
    "# turn missing value predictors into matrix \n",
    "X2 = df_new.as_matrix(columns=['latitude', 'longitude'])"
   ]
  },
  {
   "cell_type": "code",
   "execution_count": 18,
   "metadata": {
    "collapsed": true
   },
   "outputs": [],
   "source": [
    "# run missing value observations into model \n",
    "zipcodes2 = trained_model1.predict(X2)"
   ]
  },
  {
   "cell_type": "code",
   "execution_count": 19,
   "metadata": {},
   "outputs": [
    {
     "data": {
      "text/plain": [
       "array(['80210', '80202', '80206', '80202', '80210', '80249', '80202',\n",
       "       '80202', '80204', '80249', '80206', '80204', '80202', '80202',\n",
       "       '97218', '97214', '97209', '92121', '92121', '92126', '92126',\n",
       "       '92121', '92121', '92121', '92121', '92121', '92111', '92121',\n",
       "       '92101', '92127', '92104', '92104', '92110', '92102', '92126',\n",
       "       '92116', '92110', '92126', '92126', '92120', '92104', '92131',\n",
       "       '92121', '92114', '92131', '92127', '92121', '92102', '92104',\n",
       "       '92127', '92104', '92127', '92104', '92106', '92110', '92109',\n",
       "       '92109', '92104', '92114', '92110', '92116', '92121', '92106',\n",
       "       '92110', '92131', '92121', '92120', '92121', '92126', '92121',\n",
       "       '92131', '92110', '92121', '92120', '92127', '92121', '98109',\n",
       "       '98134', '98134', '98118', '98108', '98116', '98116', '98107',\n",
       "       '98103', '98107', '98108', '98107', '98107', '98103', '98107',\n",
       "       '98109', '98116', '98134', '98101', '98105', '98101', '98116',\n",
       "       '98109', '98105', '60618', '60622', '60603', '60608', '60640',\n",
       "       '60603', '60661', '60661', '60657', '60618', '60661', '60657',\n",
       "       '60661', '60661', '60640', '60661', '60622', '78701', '78736',\n",
       "       '78732', '78758', '78732', '78745', '78745', '78736', '78702',\n",
       "       '78758'], dtype=object)"
      ]
     },
     "execution_count": 19,
     "metadata": {},
     "output_type": "execute_result"
    }
   ],
   "source": [
    "# print out all results \n",
    "zipcodes2[0:127]"
   ]
  },
  {
   "cell_type": "code",
   "execution_count": 20,
   "metadata": {},
   "outputs": [
    {
     "data": {
      "text/plain": [
       "(1141, 19)"
      ]
     },
     "execution_count": 20,
     "metadata": {},
     "output_type": "execute_result"
    }
   ],
   "source": [
    "# check out the shape of data frame with none missing values\n",
    "df_new2.shape"
   ]
  },
  {
   "cell_type": "code",
   "execution_count": 21,
   "metadata": {},
   "outputs": [
    {
     "data": {
      "text/html": [
       "<div>\n",
       "<style scoped>\n",
       "    .dataframe tbody tr th:only-of-type {\n",
       "        vertical-align: middle;\n",
       "    }\n",
       "\n",
       "    .dataframe tbody tr th {\n",
       "        vertical-align: top;\n",
       "    }\n",
       "\n",
       "    .dataframe thead th {\n",
       "        text-align: right;\n",
       "    }\n",
       "</style>\n",
       "<table border=\"1\" class=\"dataframe\">\n",
       "  <thead>\n",
       "    <tr style=\"text-align: right;\">\n",
       "      <th></th>\n",
       "      <th>id</th>\n",
       "      <th>address</th>\n",
       "      <th>categories</th>\n",
       "      <th>city</th>\n",
       "      <th>country</th>\n",
       "      <th>latitude</th>\n",
       "      <th>longitude</th>\n",
       "      <th>name</th>\n",
       "      <th>postalCode</th>\n",
       "      <th>twitter</th>\n",
       "      <th>websites</th>\n",
       "      <th>no_twitter</th>\n",
       "      <th>no_website</th>\n",
       "      <th>no_menu</th>\n",
       "      <th>state</th>\n",
       "      <th>address_location</th>\n",
       "      <th>clusters</th>\n",
       "      <th>cluster_name</th>\n",
       "      <th>zipcode</th>\n",
       "    </tr>\n",
       "  </thead>\n",
       "  <tbody>\n",
       "    <tr>\n",
       "      <th>0</th>\n",
       "      <td>AVwdQuH3ByjofQCxnPfO</td>\n",
       "      <td>1660 Champa St</td>\n",
       "      <td>breweries , wineries</td>\n",
       "      <td>Denver</td>\n",
       "      <td>US</td>\n",
       "      <td>39.747169</td>\n",
       "      <td>-104.993057</td>\n",
       "      <td>D'vine Wine Denver</td>\n",
       "      <td>80202</td>\n",
       "      <td>NaN</td>\n",
       "      <td>http://www.dvinewineusa.com</td>\n",
       "      <td>True</td>\n",
       "      <td>False</td>\n",
       "      <td>True</td>\n",
       "      <td>CO</td>\n",
       "      <td>1660 Champa St, Denver, CO, 80202, US</td>\n",
       "      <td>3</td>\n",
       "      <td>den</td>\n",
       "      <td>80202</td>\n",
       "    </tr>\n",
       "    <tr>\n",
       "      <th>1</th>\n",
       "      <td>AVwc2E2VIN2L1WUfphDU</td>\n",
       "      <td>1555 Blake St</td>\n",
       "      <td>music venue,bar , music venue,bar,pubs,bars , ...</td>\n",
       "      <td>Denver</td>\n",
       "      <td>US</td>\n",
       "      <td>39.750288</td>\n",
       "      <td>-104.999768</td>\n",
       "      <td>World of Beer</td>\n",
       "      <td>80202</td>\n",
       "      <td>mapquest</td>\n",
       "      <td>http://worldofbeer.com/Locations/Lodo,http://m...</td>\n",
       "      <td>False</td>\n",
       "      <td>False</td>\n",
       "      <td>True</td>\n",
       "      <td>CO</td>\n",
       "      <td>1555 Blake St, Denver, CO, 80202, US</td>\n",
       "      <td>3</td>\n",
       "      <td>den</td>\n",
       "      <td>80202</td>\n",
       "    </tr>\n",
       "    <tr>\n",
       "      <th>2</th>\n",
       "      <td>AVwdhk0DIN2L1WUfwqtr</td>\n",
       "      <td>7260 W Alaska Dr</td>\n",
       "      <td>music venue,bars , pubs,pubs,breweries,bar</td>\n",
       "      <td>Denver</td>\n",
       "      <td>US</td>\n",
       "      <td>39.709068</td>\n",
       "      <td>-105.077258</td>\n",
       "      <td>World of Beer</td>\n",
       "      <td>80226</td>\n",
       "      <td>NaN</td>\n",
       "      <td>http://worldofbeer.com/Locations/Belmar</td>\n",
       "      <td>True</td>\n",
       "      <td>False</td>\n",
       "      <td>True</td>\n",
       "      <td>CO</td>\n",
       "      <td>7260 W Alaska Dr, Denver, CO, 80226, US</td>\n",
       "      <td>3</td>\n",
       "      <td>den</td>\n",
       "      <td>80226</td>\n",
       "    </tr>\n",
       "    <tr>\n",
       "      <th>3</th>\n",
       "      <td>AVwcizXVkufWRAb5wVk8</td>\n",
       "      <td>1257 W 120th Ave</td>\n",
       "      <td>american restaurant,brewery,fast food restaura...</td>\n",
       "      <td>Denver</td>\n",
       "      <td>US</td>\n",
       "      <td>39.914928</td>\n",
       "      <td>-105.000843</td>\n",
       "      <td>C.b. &amp; Potts</td>\n",
       "      <td>80234</td>\n",
       "      <td>NaN</td>\n",
       "      <td>http://cbpotts.com</td>\n",
       "      <td>True</td>\n",
       "      <td>False</td>\n",
       "      <td>True</td>\n",
       "      <td>CO</td>\n",
       "      <td>1257 W 120th Ave, Denver, CO, 80234, US</td>\n",
       "      <td>3</td>\n",
       "      <td>den</td>\n",
       "      <td>80234</td>\n",
       "    </tr>\n",
       "    <tr>\n",
       "      <th>4</th>\n",
       "      <td>AVwdQdHXIN2L1WUft5XE</td>\n",
       "      <td>W Jeppesen Terminal 5</td>\n",
       "      <td>airport lounge,brewery,bar</td>\n",
       "      <td>Denver</td>\n",
       "      <td>US</td>\n",
       "      <td>39.848760</td>\n",
       "      <td>-104.673743</td>\n",
       "      <td>Boulder Beer Tap House</td>\n",
       "      <td>80249</td>\n",
       "      <td>NaN</td>\n",
       "      <td>http://boulderbeer.com</td>\n",
       "      <td>True</td>\n",
       "      <td>False</td>\n",
       "      <td>True</td>\n",
       "      <td>CO</td>\n",
       "      <td>W Jeppesen Terminal 5, Denver, CO, 80249, US</td>\n",
       "      <td>3</td>\n",
       "      <td>den</td>\n",
       "      <td>80249</td>\n",
       "    </tr>\n",
       "  </tbody>\n",
       "</table>\n",
       "</div>"
      ],
      "text/plain": [
       "                     id                address  \\\n",
       "0  AVwdQuH3ByjofQCxnPfO         1660 Champa St   \n",
       "1  AVwc2E2VIN2L1WUfphDU          1555 Blake St   \n",
       "2  AVwdhk0DIN2L1WUfwqtr       7260 W Alaska Dr   \n",
       "3  AVwcizXVkufWRAb5wVk8       1257 W 120th Ave   \n",
       "4  AVwdQdHXIN2L1WUft5XE  W Jeppesen Terminal 5   \n",
       "\n",
       "                                          categories    city country  \\\n",
       "0                               breweries , wineries  Denver      US   \n",
       "1  music venue,bar , music venue,bar,pubs,bars , ...  Denver      US   \n",
       "2         music venue,bars , pubs,pubs,breweries,bar  Denver      US   \n",
       "3  american restaurant,brewery,fast food restaura...  Denver      US   \n",
       "4                         airport lounge,brewery,bar  Denver      US   \n",
       "\n",
       "    latitude   longitude                    name postalCode   twitter  \\\n",
       "0  39.747169 -104.993057      D'vine Wine Denver      80202       NaN   \n",
       "1  39.750288 -104.999768           World of Beer      80202  mapquest   \n",
       "2  39.709068 -105.077258           World of Beer      80226       NaN   \n",
       "3  39.914928 -105.000843            C.b. & Potts      80234       NaN   \n",
       "4  39.848760 -104.673743  Boulder Beer Tap House      80249       NaN   \n",
       "\n",
       "                                            websites  no_twitter  no_website  \\\n",
       "0                        http://www.dvinewineusa.com        True       False   \n",
       "1  http://worldofbeer.com/Locations/Lodo,http://m...       False       False   \n",
       "2            http://worldofbeer.com/Locations/Belmar        True       False   \n",
       "3                                 http://cbpotts.com        True       False   \n",
       "4                             http://boulderbeer.com        True       False   \n",
       "\n",
       "   no_menu state                              address_location  clusters  \\\n",
       "0     True    CO         1660 Champa St, Denver, CO, 80202, US         3   \n",
       "1     True    CO          1555 Blake St, Denver, CO, 80202, US         3   \n",
       "2     True    CO       7260 W Alaska Dr, Denver, CO, 80226, US         3   \n",
       "3     True    CO       1257 W 120th Ave, Denver, CO, 80234, US         3   \n",
       "4     True    CO  W Jeppesen Terminal 5, Denver, CO, 80249, US         3   \n",
       "\n",
       "  cluster_name zipcode  \n",
       "0          den   80202  \n",
       "1          den   80202  \n",
       "2          den   80226  \n",
       "3          den   80234  \n",
       "4          den   80249  "
      ]
     },
     "execution_count": 21,
     "metadata": {},
     "output_type": "execute_result"
    }
   ],
   "source": [
    "# inspect the head of data frame with non missing values\n",
    "df_new2.head()"
   ]
  },
  {
   "cell_type": "code",
   "execution_count": 22,
   "metadata": {},
   "outputs": [
    {
     "data": {
      "text/plain": [
       "(128, 19)"
      ]
     },
     "execution_count": 22,
     "metadata": {},
     "output_type": "execute_result"
    }
   ],
   "source": [
    "# inspect the shape of data frame that just got imputed\n",
    "df_new.shape"
   ]
  },
  {
   "cell_type": "code",
   "execution_count": 23,
   "metadata": {},
   "outputs": [
    {
     "data": {
      "text/html": [
       "<div>\n",
       "<style scoped>\n",
       "    .dataframe tbody tr th:only-of-type {\n",
       "        vertical-align: middle;\n",
       "    }\n",
       "\n",
       "    .dataframe tbody tr th {\n",
       "        vertical-align: top;\n",
       "    }\n",
       "\n",
       "    .dataframe thead th {\n",
       "        text-align: right;\n",
       "    }\n",
       "</style>\n",
       "<table border=\"1\" class=\"dataframe\">\n",
       "  <thead>\n",
       "    <tr style=\"text-align: right;\">\n",
       "      <th></th>\n",
       "      <th>id</th>\n",
       "      <th>address</th>\n",
       "      <th>categories</th>\n",
       "      <th>city</th>\n",
       "      <th>country</th>\n",
       "      <th>latitude</th>\n",
       "      <th>longitude</th>\n",
       "      <th>name</th>\n",
       "      <th>postalCode</th>\n",
       "      <th>twitter</th>\n",
       "      <th>websites</th>\n",
       "      <th>no_twitter</th>\n",
       "      <th>no_website</th>\n",
       "      <th>no_menu</th>\n",
       "      <th>state</th>\n",
       "      <th>address_location</th>\n",
       "      <th>clusters</th>\n",
       "      <th>cluster_name</th>\n",
       "      <th>zipcode</th>\n",
       "    </tr>\n",
       "  </thead>\n",
       "  <tbody>\n",
       "    <tr>\n",
       "      <th>5</th>\n",
       "      <td>AV1TrojULD2H7whiaK47</td>\n",
       "      <td>1875 S. Pearl St</td>\n",
       "      <td>restaurant,pubs,brewery</td>\n",
       "      <td>Denver</td>\n",
       "      <td>US</td>\n",
       "      <td>39.682568</td>\n",
       "      <td>-104.98078</td>\n",
       "      <td>Denver pearl brewing</td>\n",
       "      <td>NaN</td>\n",
       "      <td>NaN</td>\n",
       "      <td>NaN</td>\n",
       "      <td>True</td>\n",
       "      <td>True</td>\n",
       "      <td>True</td>\n",
       "      <td>CO</td>\n",
       "      <td>NaN</td>\n",
       "      <td>3</td>\n",
       "      <td>den</td>\n",
       "      <td>NaN</td>\n",
       "    </tr>\n",
       "    <tr>\n",
       "      <th>14</th>\n",
       "      <td>AV5NZZTxa4HuVbedB2d_</td>\n",
       "      <td>Denver International Airport</td>\n",
       "      <td>restaurant,american,pizza,pubs,brewery</td>\n",
       "      <td>Denver</td>\n",
       "      <td>US</td>\n",
       "      <td>39.739580</td>\n",
       "      <td>-104.98731</td>\n",
       "      <td>Rock Bottom Restaurant &amp; Brewery</td>\n",
       "      <td>NaN</td>\n",
       "      <td>NaN</td>\n",
       "      <td>NaN</td>\n",
       "      <td>True</td>\n",
       "      <td>True</td>\n",
       "      <td>True</td>\n",
       "      <td>CO</td>\n",
       "      <td>NaN</td>\n",
       "      <td>3</td>\n",
       "      <td>den</td>\n",
       "      <td>NaN</td>\n",
       "    </tr>\n",
       "    <tr>\n",
       "      <th>28</th>\n",
       "      <td>AV1TquITLD2H7whiaGIE</td>\n",
       "      <td>1477 Monroe Street</td>\n",
       "      <td>restaurant,brewery</td>\n",
       "      <td>Denver</td>\n",
       "      <td>US</td>\n",
       "      <td>39.739752</td>\n",
       "      <td>-104.94508</td>\n",
       "      <td>Cerebral Brewing</td>\n",
       "      <td>NaN</td>\n",
       "      <td>NaN</td>\n",
       "      <td>http://cerebralbrewing.com/</td>\n",
       "      <td>True</td>\n",
       "      <td>False</td>\n",
       "      <td>True</td>\n",
       "      <td>CO</td>\n",
       "      <td>NaN</td>\n",
       "      <td>3</td>\n",
       "      <td>den</td>\n",
       "      <td>NaN</td>\n",
       "    </tr>\n",
       "    <tr>\n",
       "      <th>53</th>\n",
       "      <td>AV492ksaIxWefVJwlWqA</td>\n",
       "      <td>Denver International Airport</td>\n",
       "      <td>restaurant,american,pizza,pubs,brewery</td>\n",
       "      <td>Denver</td>\n",
       "      <td>US</td>\n",
       "      <td>39.739580</td>\n",
       "      <td>-104.98731</td>\n",
       "      <td>Rock Bottom Restaurant &amp; Brewery</td>\n",
       "      <td>NaN</td>\n",
       "      <td>NaN</td>\n",
       "      <td>NaN</td>\n",
       "      <td>True</td>\n",
       "      <td>True</td>\n",
       "      <td>True</td>\n",
       "      <td>CO</td>\n",
       "      <td>NaN</td>\n",
       "      <td>3</td>\n",
       "      <td>den</td>\n",
       "      <td>NaN</td>\n",
       "    </tr>\n",
       "    <tr>\n",
       "      <th>78</th>\n",
       "      <td>AV49C3vO3-Khe5l_Sx5V</td>\n",
       "      <td>1875 S. Pearl St</td>\n",
       "      <td>restaurant,pubs,brewery</td>\n",
       "      <td>Denver</td>\n",
       "      <td>US</td>\n",
       "      <td>39.682568</td>\n",
       "      <td>-104.98078</td>\n",
       "      <td>Denver pearl brewing</td>\n",
       "      <td>NaN</td>\n",
       "      <td>NaN</td>\n",
       "      <td>NaN</td>\n",
       "      <td>True</td>\n",
       "      <td>True</td>\n",
       "      <td>True</td>\n",
       "      <td>CO</td>\n",
       "      <td>NaN</td>\n",
       "      <td>3</td>\n",
       "      <td>den</td>\n",
       "      <td>NaN</td>\n",
       "    </tr>\n",
       "  </tbody>\n",
       "</table>\n",
       "</div>"
      ],
      "text/plain": [
       "                      id                       address  \\\n",
       "5   AV1TrojULD2H7whiaK47              1875 S. Pearl St   \n",
       "14  AV5NZZTxa4HuVbedB2d_  Denver International Airport   \n",
       "28  AV1TquITLD2H7whiaGIE            1477 Monroe Street   \n",
       "53  AV492ksaIxWefVJwlWqA  Denver International Airport   \n",
       "78  AV49C3vO3-Khe5l_Sx5V              1875 S. Pearl St   \n",
       "\n",
       "                                categories    city country   latitude  \\\n",
       "5                  restaurant,pubs,brewery  Denver      US  39.682568   \n",
       "14  restaurant,american,pizza,pubs,brewery  Denver      US  39.739580   \n",
       "28                      restaurant,brewery  Denver      US  39.739752   \n",
       "53  restaurant,american,pizza,pubs,brewery  Denver      US  39.739580   \n",
       "78                 restaurant,pubs,brewery  Denver      US  39.682568   \n",
       "\n",
       "    longitude                              name postalCode twitter  \\\n",
       "5  -104.98078              Denver pearl brewing        NaN     NaN   \n",
       "14 -104.98731  Rock Bottom Restaurant & Brewery        NaN     NaN   \n",
       "28 -104.94508                  Cerebral Brewing        NaN     NaN   \n",
       "53 -104.98731  Rock Bottom Restaurant & Brewery        NaN     NaN   \n",
       "78 -104.98078              Denver pearl brewing        NaN     NaN   \n",
       "\n",
       "                       websites  no_twitter  no_website  no_menu state  \\\n",
       "5                           NaN        True        True     True    CO   \n",
       "14                          NaN        True        True     True    CO   \n",
       "28  http://cerebralbrewing.com/        True       False     True    CO   \n",
       "53                          NaN        True        True     True    CO   \n",
       "78                          NaN        True        True     True    CO   \n",
       "\n",
       "   address_location  clusters cluster_name zipcode  \n",
       "5               NaN         3          den     NaN  \n",
       "14              NaN         3          den     NaN  \n",
       "28              NaN         3          den     NaN  \n",
       "53              NaN         3          den     NaN  \n",
       "78              NaN         3          den     NaN  "
      ]
     },
     "execution_count": 23,
     "metadata": {},
     "output_type": "execute_result"
    }
   ],
   "source": [
    "# inspect the head of the data frame that just got imputed\n",
    "df_new.head()"
   ]
  },
  {
   "cell_type": "code",
   "execution_count": 24,
   "metadata": {},
   "outputs": [
    {
     "name": "stderr",
     "output_type": "stream",
     "text": [
      "/Users/saultamariz/anaconda/lib/python3.6/site-packages/ipykernel_launcher.py:1: SettingWithCopyWarning: \n",
      "A value is trying to be set on a copy of a slice from a DataFrame.\n",
      "Try using .loc[row_indexer,col_indexer] = value instead\n",
      "\n",
      "See the caveats in the documentation: http://pandas.pydata.org/pandas-docs/stable/indexing.html#indexing-view-versus-copy\n",
      "  \"\"\"Entry point for launching an IPython kernel.\n"
     ]
    }
   ],
   "source": [
    "# append the predicted values to data frame\n",
    "df_new[\"zipcode\"] = zipcodes2"
   ]
  },
  {
   "cell_type": "code",
   "execution_count": 25,
   "metadata": {
    "collapsed": true
   },
   "outputs": [],
   "source": [
    "# use the pd concat function to concat both data frames\n",
    "dfs = pd.concat([df_new, df_new2])"
   ]
  },
  {
   "cell_type": "code",
   "execution_count": 26,
   "metadata": {},
   "outputs": [
    {
     "data": {
      "text/plain": [
       "(1269, 19)"
      ]
     },
     "execution_count": 26,
     "metadata": {},
     "output_type": "execute_result"
    }
   ],
   "source": [
    "# inspect the shape of the data frame\n",
    "dfs.shape"
   ]
  },
  {
   "cell_type": "code",
   "execution_count": 27,
   "metadata": {
    "collapsed": true
   },
   "outputs": [],
   "source": [
    "# drop postalCode and address_location column\n",
    "dfs = dfs.drop(columns=['postalCode','address_location'])"
   ]
  },
  {
   "cell_type": "code",
   "execution_count": 28,
   "metadata": {},
   "outputs": [
    {
     "data": {
      "text/html": [
       "<div>\n",
       "<style scoped>\n",
       "    .dataframe tbody tr th:only-of-type {\n",
       "        vertical-align: middle;\n",
       "    }\n",
       "\n",
       "    .dataframe tbody tr th {\n",
       "        vertical-align: top;\n",
       "    }\n",
       "\n",
       "    .dataframe thead th {\n",
       "        text-align: right;\n",
       "    }\n",
       "</style>\n",
       "<table border=\"1\" class=\"dataframe\">\n",
       "  <thead>\n",
       "    <tr style=\"text-align: right;\">\n",
       "      <th></th>\n",
       "      <th>id</th>\n",
       "      <th>address</th>\n",
       "      <th>categories</th>\n",
       "      <th>city</th>\n",
       "      <th>country</th>\n",
       "      <th>latitude</th>\n",
       "      <th>longitude</th>\n",
       "      <th>name</th>\n",
       "      <th>twitter</th>\n",
       "      <th>websites</th>\n",
       "      <th>no_twitter</th>\n",
       "      <th>no_website</th>\n",
       "      <th>no_menu</th>\n",
       "      <th>state</th>\n",
       "      <th>clusters</th>\n",
       "      <th>cluster_name</th>\n",
       "      <th>zipcode</th>\n",
       "    </tr>\n",
       "  </thead>\n",
       "  <tbody>\n",
       "    <tr>\n",
       "      <th>5</th>\n",
       "      <td>AV1TrojULD2H7whiaK47</td>\n",
       "      <td>1875 S. Pearl St</td>\n",
       "      <td>restaurant,pubs,brewery</td>\n",
       "      <td>Denver</td>\n",
       "      <td>US</td>\n",
       "      <td>39.682568</td>\n",
       "      <td>-104.98078</td>\n",
       "      <td>Denver pearl brewing</td>\n",
       "      <td>NaN</td>\n",
       "      <td>NaN</td>\n",
       "      <td>True</td>\n",
       "      <td>True</td>\n",
       "      <td>True</td>\n",
       "      <td>CO</td>\n",
       "      <td>3</td>\n",
       "      <td>den</td>\n",
       "      <td>80210</td>\n",
       "    </tr>\n",
       "    <tr>\n",
       "      <th>14</th>\n",
       "      <td>AV5NZZTxa4HuVbedB2d_</td>\n",
       "      <td>Denver International Airport</td>\n",
       "      <td>restaurant,american,pizza,pubs,brewery</td>\n",
       "      <td>Denver</td>\n",
       "      <td>US</td>\n",
       "      <td>39.739580</td>\n",
       "      <td>-104.98731</td>\n",
       "      <td>Rock Bottom Restaurant &amp; Brewery</td>\n",
       "      <td>NaN</td>\n",
       "      <td>NaN</td>\n",
       "      <td>True</td>\n",
       "      <td>True</td>\n",
       "      <td>True</td>\n",
       "      <td>CO</td>\n",
       "      <td>3</td>\n",
       "      <td>den</td>\n",
       "      <td>80202</td>\n",
       "    </tr>\n",
       "    <tr>\n",
       "      <th>28</th>\n",
       "      <td>AV1TquITLD2H7whiaGIE</td>\n",
       "      <td>1477 Monroe Street</td>\n",
       "      <td>restaurant,brewery</td>\n",
       "      <td>Denver</td>\n",
       "      <td>US</td>\n",
       "      <td>39.739752</td>\n",
       "      <td>-104.94508</td>\n",
       "      <td>Cerebral Brewing</td>\n",
       "      <td>NaN</td>\n",
       "      <td>http://cerebralbrewing.com/</td>\n",
       "      <td>True</td>\n",
       "      <td>False</td>\n",
       "      <td>True</td>\n",
       "      <td>CO</td>\n",
       "      <td>3</td>\n",
       "      <td>den</td>\n",
       "      <td>80206</td>\n",
       "    </tr>\n",
       "    <tr>\n",
       "      <th>53</th>\n",
       "      <td>AV492ksaIxWefVJwlWqA</td>\n",
       "      <td>Denver International Airport</td>\n",
       "      <td>restaurant,american,pizza,pubs,brewery</td>\n",
       "      <td>Denver</td>\n",
       "      <td>US</td>\n",
       "      <td>39.739580</td>\n",
       "      <td>-104.98731</td>\n",
       "      <td>Rock Bottom Restaurant &amp; Brewery</td>\n",
       "      <td>NaN</td>\n",
       "      <td>NaN</td>\n",
       "      <td>True</td>\n",
       "      <td>True</td>\n",
       "      <td>True</td>\n",
       "      <td>CO</td>\n",
       "      <td>3</td>\n",
       "      <td>den</td>\n",
       "      <td>80202</td>\n",
       "    </tr>\n",
       "    <tr>\n",
       "      <th>78</th>\n",
       "      <td>AV49C3vO3-Khe5l_Sx5V</td>\n",
       "      <td>1875 S. Pearl St</td>\n",
       "      <td>restaurant,pubs,brewery</td>\n",
       "      <td>Denver</td>\n",
       "      <td>US</td>\n",
       "      <td>39.682568</td>\n",
       "      <td>-104.98078</td>\n",
       "      <td>Denver pearl brewing</td>\n",
       "      <td>NaN</td>\n",
       "      <td>NaN</td>\n",
       "      <td>True</td>\n",
       "      <td>True</td>\n",
       "      <td>True</td>\n",
       "      <td>CO</td>\n",
       "      <td>3</td>\n",
       "      <td>den</td>\n",
       "      <td>80210</td>\n",
       "    </tr>\n",
       "  </tbody>\n",
       "</table>\n",
       "</div>"
      ],
      "text/plain": [
       "                      id                       address  \\\n",
       "5   AV1TrojULD2H7whiaK47              1875 S. Pearl St   \n",
       "14  AV5NZZTxa4HuVbedB2d_  Denver International Airport   \n",
       "28  AV1TquITLD2H7whiaGIE            1477 Monroe Street   \n",
       "53  AV492ksaIxWefVJwlWqA  Denver International Airport   \n",
       "78  AV49C3vO3-Khe5l_Sx5V              1875 S. Pearl St   \n",
       "\n",
       "                                categories    city country   latitude  \\\n",
       "5                  restaurant,pubs,brewery  Denver      US  39.682568   \n",
       "14  restaurant,american,pizza,pubs,brewery  Denver      US  39.739580   \n",
       "28                      restaurant,brewery  Denver      US  39.739752   \n",
       "53  restaurant,american,pizza,pubs,brewery  Denver      US  39.739580   \n",
       "78                 restaurant,pubs,brewery  Denver      US  39.682568   \n",
       "\n",
       "    longitude                              name twitter  \\\n",
       "5  -104.98078              Denver pearl brewing     NaN   \n",
       "14 -104.98731  Rock Bottom Restaurant & Brewery     NaN   \n",
       "28 -104.94508                  Cerebral Brewing     NaN   \n",
       "53 -104.98731  Rock Bottom Restaurant & Brewery     NaN   \n",
       "78 -104.98078              Denver pearl brewing     NaN   \n",
       "\n",
       "                       websites  no_twitter  no_website  no_menu state  \\\n",
       "5                           NaN        True        True     True    CO   \n",
       "14                          NaN        True        True     True    CO   \n",
       "28  http://cerebralbrewing.com/        True       False     True    CO   \n",
       "53                          NaN        True        True     True    CO   \n",
       "78                          NaN        True        True     True    CO   \n",
       "\n",
       "    clusters cluster_name zipcode  \n",
       "5          3          den   80210  \n",
       "14         3          den   80202  \n",
       "28         3          den   80206  \n",
       "53         3          den   80202  \n",
       "78         3          den   80210  "
      ]
     },
     "execution_count": 28,
     "metadata": {},
     "output_type": "execute_result"
    }
   ],
   "source": [
    "# inspect head of the df \n",
    "dfs.head()"
   ]
  },
  {
   "cell_type": "code",
   "execution_count": 29,
   "metadata": {
    "collapsed": true
   },
   "outputs": [],
   "source": [
    "## export to local for further analysis using Tableau and Twitter API tweepy\n",
    "#dfs.to_csv(\"dfs.csv\", index=False)"
   ]
  },
  {
   "cell_type": "code",
   "execution_count": null,
   "metadata": {
    "collapsed": true
   },
   "outputs": [],
   "source": []
  },
  {
   "cell_type": "code",
   "execution_count": null,
   "metadata": {
    "collapsed": true
   },
   "outputs": [],
   "source": []
  },
  {
   "cell_type": "code",
   "execution_count": null,
   "metadata": {
    "collapsed": true
   },
   "outputs": [],
   "source": []
  }
 ],
 "metadata": {
  "kernelspec": {
   "display_name": "Python 3",
   "language": "python",
   "name": "python3"
  },
  "language_info": {
   "codemirror_mode": {
    "name": "ipython",
    "version": 3
   },
   "file_extension": ".py",
   "mimetype": "text/x-python",
   "name": "python",
   "nbconvert_exporter": "python",
   "pygments_lexer": "ipython3",
   "version": "3.6.1"
  }
 },
 "nbformat": 4,
 "nbformat_minor": 2
}
