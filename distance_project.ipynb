{
 "cells": [
  {
   "cell_type": "code",
   "execution_count": 1,
   "metadata": {},
   "outputs": [],
   "source": [
    "import pandas as pd\n",
    "import numpy as np"
   ]
  },
  {
   "cell_type": "code",
   "execution_count": 5,
   "metadata": {},
   "outputs": [],
   "source": [
    "den = 39.7391428, -104.984696\n",
    "aus = 30.2711286, -97.7436995\n",
    "chi = 41.8755546, -87.6244212\n",
    "sea = 47.6038321, -122.3300624\n",
    "por = 45.5202471, -122.6741949\n",
    "sd = 32.7174209, -117.1627714"
   ]
  },
  {
   "cell_type": "code",
   "execution_count": 14,
   "metadata": {},
   "outputs": [],
   "source": [
    "sd_bars = 32.82229764, -117.15678694\n",
    "chi_bars = 41.90494475,  -87.67381896\n",
    "por_bars = 45.52074879, -122.66171478\n",
    "den_bars = 39.75044646, -104.98343547\n",
    "aus_bars = 30.29088426,  -97.78187058\n",
    "sea_bars = 47.61501233, -122.33925117\n"
   ]
  },
  {
   "cell_type": "code",
   "execution_count": 3,
   "metadata": {},
   "outputs": [],
   "source": [
    "import math #import  \n",
    "from math import sqrt\n",
    "\n",
    "def eucl_dis(point1, point2):\n",
    "    distance = math.sqrt((point1[0] - point2[0])**2 + (point1[1] - point2[1])**2)\n",
    "    return distance"
   ]
  },
  {
   "cell_type": "code",
   "execution_count": 15,
   "metadata": {},
   "outputs": [],
   "source": [
    "den_dis = eucl_dis(den, den_bars)\n",
    "chi_dis = eucl_dis(chi, chi_bars)\n",
    "aus_dis = eucl_dis(aus, aus_bars)\n",
    "sea_dis = eucl_dis(sea, sea_bars)\n",
    "por_dis = eucl_dis(por, por_bars)\n",
    "sd_dis = eucl_dis(sd, sd_bars)"
   ]
  },
  {
   "cell_type": "code",
   "execution_count": 26,
   "metadata": {},
   "outputs": [],
   "source": [
    "dis_from_dtown = [den_dis, chi_dis, aus_dis, sea_dis, por_dis, sd_dis]"
   ]
  },
  {
   "cell_type": "code",
   "execution_count": 32,
   "metadata": {},
   "outputs": [
    {
     "name": "stdout",
     "output_type": "stream",
     "text": [
      "[0.01137372697388134, 0.012490199680976298, 0.014471732341558659, 0.042980431016937826, 0.05747973216743844, 0.10504734339582071]\n"
     ]
    }
   ],
   "source": [
    "print(dis_from_dtown)"
   ]
  },
  {
   "cell_type": "code",
   "execution_count": null,
   "metadata": {},
   "outputs": [],
   "source": []
  },
  {
   "cell_type": "raw",
   "metadata": {},
   "source": []
  }
 ],
 "metadata": {
  "kernelspec": {
   "display_name": "Python 3",
   "language": "python",
   "name": "python3"
  },
  "language_info": {
   "codemirror_mode": {
    "name": "ipython",
    "version": 3
   },
   "file_extension": ".py",
   "mimetype": "text/x-python",
   "name": "python",
   "nbconvert_exporter": "python",
   "pygments_lexer": "ipython3",
   "version": "3.6.5"
  }
 },
 "nbformat": 4,
 "nbformat_minor": 2
}
