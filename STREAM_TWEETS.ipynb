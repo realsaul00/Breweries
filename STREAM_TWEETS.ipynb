{
 "cells": [
  {
   "cell_type": "code",
   "execution_count": 1,
   "metadata": {
    "collapsed": true
   },
   "outputs": [],
   "source": [
    "# Import tweepy and all necessary packages to get things started.\n",
    "\n",
    "import os\n",
    "import tweepy \n",
    "from tweepy.streaming import StreamListener\n",
    "from tweepy import Stream\n",
    "import string as str\n",
    "import pandas as pd\n",
    "import numpy as np\n",
    "import re \n",
    "from sklearn.cluster import KMeans\n",
    "import matplotlib.pyplot as plt\n",
    "from matplotlib import style\n",
    "style.use(\"ggplot\")\n",
    "import csv\n",
    "import glob\n",
    "\n",
    "#from tweepy import OAthHandler\n",
    "#import twitter_keys"
   ]
  },
  {
   "cell_type": "code",
   "execution_count": 2,
   "metadata": {
    "collapsed": true
   },
   "outputs": [],
   "source": [
    "## Input all variable keys from Twitter to stream live data.\n",
    "\n",
    "\n",
    "#ckey = 'enter ckey'\n",
    "#cseckey = 'enter cseckey'\n",
    "#atk = 'enter atk'\n",
    "#ats = 'enter ats'\n",
    "\n",
    "#auth = tweepy.OAuthHandler(ckey, cseckey)\n",
    "#auth.set_access_token(atk, ats)\n",
    "\n",
    "#api = tweepy.API(auth)"
   ]
  },
  {
   "cell_type": "code",
   "execution_count": 3,
   "metadata": {
    "collapsed": true
   },
   "outputs": [],
   "source": [
    "## call api to stream data\n",
    "#stream_twts = api.search(q=\"denverbeerco\", rpp=300, count=1000)"
   ]
  },
  {
   "cell_type": "code",
   "execution_count": 4,
   "metadata": {},
   "outputs": [],
   "source": [
    "## print streamed tweets into screen\n",
    "#stream_twts"
   ]
  },
  {
   "cell_type": "code",
   "execution_count": 5,
   "metadata": {
    "collapsed": true
   },
   "outputs": [],
   "source": [
    "## create a text file for streamed tweets\n",
    "#txtFile1 = open('denver_tweets.txt', 'a')\n",
    "#txtWriter1 = csv.writer(txtFile1)"
   ]
  },
  {
   "cell_type": "code",
   "execution_count": 6,
   "metadata": {
    "collapsed": true
   },
   "outputs": [],
   "source": [
    "## write streamed tweets for certain parameters\n",
    "#for tweet in stream_twts:\n",
    "    #txtWriter1.writerow([tweet.id_str, tweet.created_at,tweet.text,tweet.geo,tweet.id, tweet.source])"
   ]
  },
  {
   "cell_type": "code",
   "execution_count": 7,
   "metadata": {
    "collapsed": true
   },
   "outputs": [],
   "source": [
    "## read csv file\n",
    "#df = pd.read_csv('denver_tweets.txt', names=['name','time','tweet','geo','id','source'], encoding='latin-1')"
   ]
  },
  {
   "cell_type": "code",
   "execution_count": 8,
   "metadata": {},
   "outputs": [],
   "source": [
    "## inspect the head of the data frame\n",
    "#df.head()"
   ]
  },
  {
   "cell_type": "code",
   "execution_count": 9,
   "metadata": {},
   "outputs": [],
   "source": [
    "## inspect the shape of streamed tweets\n",
    "#df.shape"
   ]
  },
  {
   "cell_type": "code",
   "execution_count": 10,
   "metadata": {
    "collapsed": true
   },
   "outputs": [],
   "source": [
    "## write file to a csv file to local\n",
    "#df.to_csv(\"denver_tweets.csv\", index=False)"
   ]
  },
  {
   "cell_type": "code",
   "execution_count": null,
   "metadata": {
    "collapsed": true
   },
   "outputs": [],
   "source": []
  }
 ],
 "metadata": {
  "kernelspec": {
   "display_name": "Python 3",
   "language": "python",
   "name": "python3"
  },
  "language_info": {
   "codemirror_mode": {
    "name": "ipython",
    "version": 3
   },
   "file_extension": ".py",
   "mimetype": "text/x-python",
   "name": "python",
   "nbconvert_exporter": "python",
   "pygments_lexer": "ipython3",
   "version": "3.6.1"
  }
 },
 "nbformat": 4,
 "nbformat_minor": 2
}
