{
 "cells": [
  {
   "cell_type": "code",
   "execution_count": 1,
   "metadata": {
    "collapsed": true
   },
   "outputs": [],
   "source": [
    "# import python libraries and packages\n",
    "from textblob import TextBlob\n",
    "import json\n",
    "import matplotlib.pyplot as plt\n",
    "%matplotlib inline  \n",
    "from  matplotlib import style\n",
    "import pandas as pd\n",
    "import numpy as np\n",
    "from itertools import *\n",
    "from matplotlib import rcParams\n",
    "rcParams.update({'figure.autolayout': True})\n",
    "\n",
    "#import all necessary packages for nltk, regex, and stopwords \n",
    "import nltk\n",
    "import re\n",
    "from nltk.stem import WordNetLemmatizer\n",
    "from nltk.corpus import stopwords"
   ]
  },
  {
   "cell_type": "code",
   "execution_count": 2,
   "metadata": {
    "collapsed": true
   },
   "outputs": [],
   "source": [
    "df = pd.read_csv('breweries.csv', encoding=\"latin1\")"
   ]
  },
  {
   "cell_type": "code",
   "execution_count": 3,
   "metadata": {},
   "outputs": [
    {
     "data": {
      "text/html": [
       "<div>\n",
       "<style scoped>\n",
       "    .dataframe tbody tr th:only-of-type {\n",
       "        vertical-align: middle;\n",
       "    }\n",
       "\n",
       "    .dataframe tbody tr th {\n",
       "        vertical-align: top;\n",
       "    }\n",
       "\n",
       "    .dataframe thead th {\n",
       "        text-align: right;\n",
       "    }\n",
       "</style>\n",
       "<table border=\"1\" class=\"dataframe\">\n",
       "  <thead>\n",
       "    <tr style=\"text-align: right;\">\n",
       "      <th></th>\n",
       "      <th>id</th>\n",
       "      <th>address</th>\n",
       "      <th>categories</th>\n",
       "      <th>city</th>\n",
       "      <th>country</th>\n",
       "      <th>hours</th>\n",
       "      <th>keys</th>\n",
       "      <th>latitude</th>\n",
       "      <th>longitude</th>\n",
       "      <th>menus</th>\n",
       "      <th>name</th>\n",
       "      <th>postalCode</th>\n",
       "      <th>province</th>\n",
       "      <th>twitter</th>\n",
       "      <th>websites</th>\n",
       "    </tr>\n",
       "  </thead>\n",
       "  <tbody>\n",
       "    <tr>\n",
       "      <th>0</th>\n",
       "      <td>AVweN1T_ByjofQCxwSPL</td>\n",
       "      <td>Syr Airport</td>\n",
       "      <td>Brewery</td>\n",
       "      <td>Syracuse</td>\n",
       "      <td>US</td>\n",
       "      <td>NaN</td>\n",
       "      <td>us/ny/syracuse/syrairport/2098450797</td>\n",
       "      <td>NaN</td>\n",
       "      <td>NaN</td>\n",
       "      <td>NaN</td>\n",
       "      <td>Adirondack Pub</td>\n",
       "      <td>NaN</td>\n",
       "      <td>NY</td>\n",
       "      <td>NaN</td>\n",
       "      <td>NaN</td>\n",
       "    </tr>\n",
       "    <tr>\n",
       "      <th>1</th>\n",
       "      <td>AVwdkF9ZIN2L1WUfxDfw</td>\n",
       "      <td>1320 N Doctor Martin Luther King Dr</td>\n",
       "      <td>Office and Cafeteria Brewer's Hill</td>\n",
       "      <td>Milwaukee</td>\n",
       "      <td>US</td>\n",
       "      <td>NaN</td>\n",
       "      <td>us/wi/milwaukee/1320ndoctormartinlutherkingdr/...</td>\n",
       "      <td>NaN</td>\n",
       "      <td>NaN</td>\n",
       "      <td>NaN</td>\n",
       "      <td>The Waterfront Cafe</td>\n",
       "      <td>53212</td>\n",
       "      <td>WI</td>\n",
       "      <td>NaN</td>\n",
       "      <td>NaN</td>\n",
       "    </tr>\n",
       "    <tr>\n",
       "      <th>2</th>\n",
       "      <td>AVwdlPkf_7pvs4fz7TMr</td>\n",
       "      <td>608 4th St</td>\n",
       "      <td>Brewery Downtown Clovis</td>\n",
       "      <td>Clovis</td>\n",
       "      <td>US</td>\n",
       "      <td>[{\"day\":\"Wed - Sat\",\"hour\":\"5:00 PM - 8:00 PM\"}]</td>\n",
       "      <td>us/ca/clovis/6084thst/-932885010</td>\n",
       "      <td>NaN</td>\n",
       "      <td>NaN</td>\n",
       "      <td>NaN</td>\n",
       "      <td>559 Local Brewing</td>\n",
       "      <td>93612</td>\n",
       "      <td>CA</td>\n",
       "      <td>NaN</td>\n",
       "      <td>http://fresnobrewing.com</td>\n",
       "    </tr>\n",
       "    <tr>\n",
       "      <th>3</th>\n",
       "      <td>AVwcucY0kufWRAb5yWbU</td>\n",
       "      <td>1103 Mills St</td>\n",
       "      <td>breweries &amp; brew pubs</td>\n",
       "      <td>Black Earth</td>\n",
       "      <td>US</td>\n",
       "      <td>NaN</td>\n",
       "      <td>us/wi/blackearth/1103millsst/-757413411</td>\n",
       "      <td>43.138995</td>\n",
       "      <td>-89.747904</td>\n",
       "      <td>NaN</td>\n",
       "      <td>Shack The</td>\n",
       "      <td>53515-9454</td>\n",
       "      <td>WI</td>\n",
       "      <td>NaN</td>\n",
       "      <td>NaN</td>\n",
       "    </tr>\n",
       "    <tr>\n",
       "      <th>4</th>\n",
       "      <td>AVweCkd5kufWRAb5_eaI</td>\n",
       "      <td>130 W Riverside Dr</td>\n",
       "      <td>Brewery and Gastropub Downtown Jeffersonville</td>\n",
       "      <td>Jeffersonville</td>\n",
       "      <td>US</td>\n",
       "      <td>[{\"day\":\"Wed - Thu\",\"hour\":\"3:00 PM - 9:00 PM\"...</td>\n",
       "      <td>us/utica/jeffersonville/130wriversidedr/787280564</td>\n",
       "      <td>NaN</td>\n",
       "      <td>NaN</td>\n",
       "      <td>NaN</td>\n",
       "      <td>Flat12 Bierworks</td>\n",
       "      <td>47130</td>\n",
       "      <td>Utica</td>\n",
       "      <td>flat12bierwerks</td>\n",
       "      <td>http://flat12.me/brewery</td>\n",
       "    </tr>\n",
       "  </tbody>\n",
       "</table>\n",
       "</div>"
      ],
      "text/plain": [
       "                     id                              address  \\\n",
       "0  AVweN1T_ByjofQCxwSPL                          Syr Airport   \n",
       "1  AVwdkF9ZIN2L1WUfxDfw  1320 N Doctor Martin Luther King Dr   \n",
       "2  AVwdlPkf_7pvs4fz7TMr                           608 4th St   \n",
       "3  AVwcucY0kufWRAb5yWbU                        1103 Mills St   \n",
       "4  AVweCkd5kufWRAb5_eaI                   130 W Riverside Dr   \n",
       "\n",
       "                                      categories            city country  \\\n",
       "0                                        Brewery        Syracuse      US   \n",
       "1             Office and Cafeteria Brewer's Hill       Milwaukee      US   \n",
       "2                        Brewery Downtown Clovis          Clovis      US   \n",
       "3                          breweries & brew pubs     Black Earth      US   \n",
       "4  Brewery and Gastropub Downtown Jeffersonville  Jeffersonville      US   \n",
       "\n",
       "                                               hours  \\\n",
       "0                                                NaN   \n",
       "1                                                NaN   \n",
       "2   [{\"day\":\"Wed - Sat\",\"hour\":\"5:00 PM - 8:00 PM\"}]   \n",
       "3                                                NaN   \n",
       "4  [{\"day\":\"Wed - Thu\",\"hour\":\"3:00 PM - 9:00 PM\"...   \n",
       "\n",
       "                                                keys   latitude  longitude  \\\n",
       "0               us/ny/syracuse/syrairport/2098450797        NaN        NaN   \n",
       "1  us/wi/milwaukee/1320ndoctormartinlutherkingdr/...        NaN        NaN   \n",
       "2                   us/ca/clovis/6084thst/-932885010        NaN        NaN   \n",
       "3            us/wi/blackearth/1103millsst/-757413411  43.138995 -89.747904   \n",
       "4  us/utica/jeffersonville/130wriversidedr/787280564        NaN        NaN   \n",
       "\n",
       "  menus                 name  postalCode province          twitter  \\\n",
       "0   NaN       Adirondack Pub         NaN       NY              NaN   \n",
       "1   NaN  The Waterfront Cafe       53212       WI              NaN   \n",
       "2   NaN    559 Local Brewing       93612       CA              NaN   \n",
       "3   NaN            Shack The  53515-9454       WI              NaN   \n",
       "4   NaN     Flat12 Bierworks       47130    Utica  flat12bierwerks   \n",
       "\n",
       "                   websites  \n",
       "0                       NaN  \n",
       "1                       NaN  \n",
       "2  http://fresnobrewing.com  \n",
       "3                       NaN  \n",
       "4  http://flat12.me/brewery  "
      ]
     },
     "execution_count": 3,
     "metadata": {},
     "output_type": "execute_result"
    }
   ],
   "source": [
    "df.head()"
   ]
  },
  {
   "cell_type": "code",
   "execution_count": 5,
   "metadata": {
    "collapsed": true
   },
   "outputs": [],
   "source": [
    "den = df[df.city=='Denver']\n",
    "den = pd.DataFrame(den)\n",
    "por = df[df.city=='Portland']\n",
    "por = pd.DataFrame(por)\n",
    "sd = df[df.city=='San Diego']\n",
    "sd = pd.DataFrame(sd)\n",
    "sea = df[df.city=='Seattle']\n",
    "sea = pd.DataFrame(sea)\n",
    "chi = df[df.city=='Chicago']\n",
    "chi = pd.DataFrame(chi)\n",
    "aus = df[df.city=='Austin']\n",
    "aus = pd.DataFrame(aus)"
   ]
  },
  {
   "cell_type": "code",
   "execution_count": 14,
   "metadata": {
    "collapsed": true
   },
   "outputs": [],
   "source": [
    "frames = den,por,sd,sea,chi,aus\n",
    "topsix = pd.concat(frames)"
   ]
  },
  {
   "cell_type": "code",
   "execution_count": 15,
   "metadata": {},
   "outputs": [
    {
     "data": {
      "text/plain": [
       "(1318, 15)"
      ]
     },
     "execution_count": 15,
     "metadata": {},
     "output_type": "execute_result"
    }
   ],
   "source": [
    "topsix.shape"
   ]
  },
  {
   "cell_type": "code",
   "execution_count": 45,
   "metadata": {},
   "outputs": [
    {
     "name": "stdout",
     "output_type": "stream",
     "text": [
      "CA                261\n",
      "WA                215\n",
      "CO                203\n",
      "OR                183\n",
      "IL                168\n",
      "TX                126\n",
      "ME                 42\n",
      "California         33\n",
      "Wallingford        12\n",
      "Washington         12\n",
      "Colorado            9\n",
      "Illinois            9\n",
      "Ontario Street      5\n",
      "Texas               5\n",
      "Northgate           5\n",
      "Circleville         4\n",
      "Duwamish            3\n",
      "Pioneer Square      2\n",
      "Wheat Ridge         2\n",
      "Marshall Ford       2\n",
      "Name: province, dtype: int64\n",
      "San Diego    294\n",
      "Seattle      251\n",
      "Portland     228\n",
      "Denver       216\n",
      "Chicago      188\n",
      "Austin       141\n",
      "Name: city, dtype: int64\n",
      "captainneon        8\n",
      "laurelwood1        4\n",
      "bjsrestaurants     4\n",
      "bpbrewing          4\n",
      "revbrewchicago     3\n",
      "hmshost            3\n",
      "stoupbrewing       2\n",
      "acousticales       2\n",
      "greenflashbeer     2\n",
      "moderntimesbeer    2\n",
      "roughdraftbrew     2\n",
      "cascadebrewing     2\n",
      "hellbentb          2\n",
      "basecampbrewing    2\n",
      "elliottbay_beer    2\n",
      "rogueales          2\n",
      "holymtnbrewing     2\n",
      "borderxbrewing     2\n",
      "greatdividebrew    2\n",
      "mhb                2\n",
      "Name: twitter, dtype: int64\n",
      "http://www.stonebrewing.com/visit/outposts/airport            6\n",
      "http://ralphs.com                                             4\n",
      "http://www.mikehessbrewing.com/                               4\n",
      "http://t.co/bl46gcjDLN                                        4\n",
      "http://www.luckylab.com                                       4\n",
      "http://mcmenamins.com                                         3\n",
      "http://revbrew.com                                            3\n",
      "http://www.rockbottom.com                                     3\n",
      "http://www.mcmenamins.com/373-mcmenamins-breweries-home       3\n",
      "http://oggis.com                                              3\n",
      "http://www.poorhousebrew.com/                                 2\n",
      "https://www.bjsrestaurants.com/locations/ca/mission-valley    2\n",
      "http://www.greenflashbrew.com                                 2\n",
      "http://www.dryhopchicago.com/                                 2\n",
      "http://www.thebarnbrew.com/                                   2\n",
      "http://widmerbrothers.com                                     2\n",
      "http://haymarketbrewing.com/                                  2\n",
      "http://www.twobeersbrewery.com/                               2\n",
      "http://www.ballastpoint.com/                                  2\n",
      "http://www.aztecbrewery.com/                                  2\n",
      "Name: websites, dtype: int64\n",
      "80205    36\n",
      "92121    35\n",
      "98107    34\n",
      "92104    29\n",
      "98103    27\n",
      "97214    27\n",
      "98134    27\n",
      "97209    22\n",
      "4101     22\n",
      "92101    21\n",
      "98108    21\n",
      "92126    21\n",
      "98101    20\n",
      "80204    19\n",
      "97227    17\n",
      "78702    16\n",
      "80202    15\n",
      "97202    15\n",
      "4103     14\n",
      "80211    14\n",
      "Name: postalCode, dtype: int64\n",
      "Rock Bottom Restaurant & Brewery     12\n",
      "Karl Strauss Brewing Co               5\n",
      "Ballast Point Brewing Co              5\n",
      "Uncle Billy's Brew & Que              4\n",
      "Pike Brewing Company                  4\n",
      "Karl Strauss Brewery & Restaurant     4\n",
      "Food 4 Less                           4\n",
      "Oasis Texas Brewing Company           4\n",
      "Ralphs                                4\n",
      "Molson Coors Brewing Co               4\n",
      "Cerebral Brewing                      4\n",
      "Mike Hess Brewing                     4\n",
      "Half Acre Beer Company                3\n",
      "Ballast Point Brewing & Spirits       3\n",
      "Tin Dog Brewing                       3\n",
      "Haymarket Pub & Brewery               3\n",
      "Standard Brewing                      3\n",
      "San Diego Brewing Company             3\n",
      "Lake Effect Brewing Company           3\n",
      "Fremont Brewing Company               3\n",
      "Name: name, dtype: int64\n",
      "Brewery                                            165\n",
      "Brewers                                            135\n",
      "Attraction,Bars,Clubs and Nightlife,Brewery         67\n",
      "Restaurant,Brewery                                  31\n",
      "Restaurant,Pubs,Brewery                             25\n",
      "brewery                                             21\n",
      "Attraction,Bars,Clubs and Nightlife,Brewery,Pub     15\n",
      "Brewers,Wineries                                    14\n",
      "Breweries                                           13\n",
      "Brewery,Restaurant                                  13\n",
      "Breweries,Food & Drink                              11\n",
      "Restaurant,American,Pubs,Brewery                    10\n",
      "Restaurant,American,Pizza,Pubs,Brewery               9\n",
      "Restaurant,American,Brewery                          9\n",
      "Attraction,Brewery                                   8\n",
      "Restaurant,Pizza,Brewery                             7\n",
      "Beverage Manufacturers,Breweries                     6\n",
      "Restaurant,American,Bar,Brewery                      6\n",
      "Brewery,Brewers                                      6\n",
      "Brewery,Beer Bar                                     5\n",
      "Name: categories, dtype: int64\n",
      "11160 Circle Dr                 7\n",
      "Denver International Airport    6\n",
      "3725 Greenwood St               5\n",
      "1201 1st Ave S                  4\n",
      "1 Industrial Way                4\n",
      "9550 Distribution Ave           4\n",
      "2924 W 20th Ave                 4\n",
      "1111 NW Ballard Way             4\n",
      "1221 E Pike St                  4\n",
      "6550 Comanche Trl               4\n",
      "8564 Greenwood Ave N            4\n",
      "2747 N Lincoln Ave              4\n",
      "1332 W Burnside St              3\n",
      "925 W 9th Ave                   3\n",
      "1454 S Michigan Ave             3\n",
      "1795 Hancock St                 3\n",
      "3176 Thorn St                   3\n",
      "4301 Leary Way NW               3\n",
      "91 S Royal Brougham Way         3\n",
      "1 W Grand Ave                   3\n",
      "Name: address, dtype: int64\n",
      "[{\"day\":\"Monday - Thursday, Sunday\",\"hour\":\"11:00 AM - 11:00 PM\"},{\"day\":\"Friday - Saturday\",\"hour\":\"11:00 AM - 12:00 AM\"}]                                                                                                                                                                                                                                                                                                                                                                                                                                                                                                                                                                                                                                 5\n",
      "[{\"day\":\"Monday - Thursday, Sunday\",\"hour\":\"12:00 PM - 10:00 PM\"},{\"day\":\"Friday - Saturday\",\"hour\":\"12:00 PM - 12:00 AM\"}]                                                                                                                                                                                                                                                                                                                                                                                                                                                                                                                                                                                                                                 3\n",
      "[{\"day\":\"Sun\",\"hour\":\"12:00 PM-06:00 PM\"}]                                                                                                                                                                                                                                                                                                                                                                                                                                                                                                                                                                                                                                                                                                                  3\n",
      "[{\"day\":\"Sun\",\"hour\":\"10:00 AM-10:00 PM\"},{\"day\":\"Fri\",\"hour\":\"11:00 AM-11:00 PM\"},{\"day\":\"Sat\",\"hour\":\"10:00 AM-11:00 PM\"}]                                                                                                                                                                                                                                                                                                                                                                                                                                                                                                                                                                                                                                2\n",
      "[{\"day\":\"Monday - Sunday\",\"hour\":\"11:00 AM - 12:00 AM\"}]                                                                                                                                                                                                                                                                                                                                                                                                                                                                                                                                                                                                                                                                                                    2\n",
      "[{\"day\":\"Monday - Sunday\",\"hour\":\"11:00 AM - 2:00 AM\"}]                                                                                                                                                                                                                                                                                                                                                                                                                                                                                                                                                                                                                                                                                                     2\n",
      "[{\"day\":\"Sun\",\"hour\":\"12:00 pm - 2:00 am\"},{\"day\":\"Mon - Sat\",\"hour\":\"11:30 am - 2:00 am\"}]                                                                                                                                                                                                                                                                                                                                                                                                                                                                                                                                                                                                                                                                 2\n",
      "[{\"day\":\"Sun\",\"hour\":\"11:00 AM-11:00 PM\"}]                                                                                                                                                                                                                                                                                                                                                                                                                                                                                                                                                                                                                                                                                                                  2\n",
      "[{\"day\":\"Sun\",\"hour\":\"11:00 AM-10:00 PM\"}]                                                                                                                                                                                                                                                                                                                                                                                                                                                                                                                                                                                                                                                                                                                  2\n",
      "[{\"day\":\"Monday - Friday\",\"hour\":\"11:00 AM - 2:00 AM\"},{\"day\":\"Saturday - Sunday\",\"hour\":\"10:00 AM - 2:00 AM\"},{\"day\":\"Sat - Sun\",\"hour\":\"10:00 AM - 2:00 AM\"},{\"day\":\"Mon - Fri\",\"hour\":\"11:00 AM - 2:00 AM\"}]                                                                                                                                                                                                                                                                                                                                                                                                                                                                                                                                             2\n",
      "[{\"day\":\"Sun\",\"hour\":\"11:00 AM-09:00 PM\"}]                                                                                                                                                                                                                                                                                                                                                                                                                                                                                                                                                                                                                                                                                                                  2\n",
      "[{\"day\":\"Wednesday - Saturday\",\"hour\":\"2:00 PM - 8:00 PM\"}]                                                                                                                                                                                                                                                                                                                                                                                                                                                                                                                                                                                                                                                                                                 1\n",
      "[{\"day\":\"Monday, Wednesday\",\"hour\":\"4:00 PM - 8:00 PM\"},{\"day\":\"Thursday\",\"hour\":\"3:00 PM - 9:00 PM\"},{\"day\":\"Friday\",\"hour\":\"3:00 PM - 10:00 PM\"},{\"day\":\"Saturday\",\"hour\":\"12:00 PM - 10:00 PM\"},{\"day\":\"Sunday\",\"hour\":\"1:00 PM - 7:00 PM\"},{\"day\":\"Wednesday - Thursday\",\"hour\":\"3:00 pm - 9:00 pm\"},{\"day\":\"Friday\",\"hour\":\"3:00 pm - 10:00 pm\"},{\"day\":\"Saturday\",\"hour\":\"12:00 pm - 10:00 pm\"},{\"day\":\"Sunday\",\"hour\":\"1:00 pm - 7:00 pm\"},{\"day\":\"Sat\",\"hour\":\"Noon - 10:00 PM\"},{\"day\":\"Sun\",\"hour\":\"1:00 PM - 7:00 PM\"},{\"day\":\"Thu - Fri\",\"hour\":\"3:00 PM - 9:00 PM\"},{\"day\":\"Sat\",\"hour\":\"Noon - 9:00 PM\"},{\"day\":\"Mon, Wed\",\"hour\":\"4:00 PM - 8:00 PM\"},{\"day\":\"Thu\",\"hour\":\"3:00 PM - 9:00 PM\"},{\"day\":\"Fri\",\"hour\":\"3:00 PM - 10:00 PM\"}]    1\n",
      "[{\"day\":\"Tuesday \",\"hour\":\"11:00am - 11:00pm \"},{\"day\":\"Friday \",\"hour\":\"11:00am - 11:00pm \"},{\"day\":\"Monday \",\"hour\":\"11:00am - 11:00pm \"},{\"day\":\"Sunday \",\"hour\":\"11:00am - 11:00pm \"},{\"day\":\"Saturday \",\"hour\":\"11:00am - 11:00pm \"},{\"day\":\"Thursday \",\"hour\":\"11:00am - 11:00pm \"},{\"day\":\"Wednesday \",\"hour\":\"11:00am - 11:00pm \"}]                                                                                                                                                                                                                                                                                                                                                                                                                 1\n",
      "[{\"day\":\"Monday - Thursday\",\"hour\":\"3:00 PM - 11:00 PM\"},{\"day\":\"Friday - Saturday\",\"hour\":\"12:00 PM - 12:00 AM\"},{\"day\":\"Sunday\",\"hour\":\"12:00 PM - 10:00 PM\"}]                                                                                                                                                                                                                                                                                                                                                                                                                                                                                                                                                                                            1\n",
      "[{\"day\":\"Monday - Friday\",\"hour\":\"10:00 AM - 7:00 PM\"},{\"day\":\"Saturday\",\"hour\":\"10:00 AM - 6:00 PM\"},{\"day\":\"Sunday\",\"hour\":\"12:00 PM - 4:00 PM\"}]                                                                                                                                                                                                                                                                                                                                                                                                                                                                                                                                                                                                         1\n",
      "[{\"day\":\"Sat\",\"hour\":\"1:00 PM - 7:00 PM\"},{\"day\":\"Mon - Fri\",\"hour\":\"2:00 PM - 7:00 PM\"}]                                                                                                                                                                                                                                                                                                                                                                                                                                                                                                                                                                                                                                                                   1\n",
      "[{\"day\":\"Monday - Thursday\",\"hour\":\"11:30 AM - 11:00 PM\"},{\"day\":\"Friday - Saturday\",\"hour\":\"11:30 AM - 12:00 AM\"},{\"day\":\"Sunday\",\"hour\":\"11:30 AM - 10:00 PM\"},{\"day\":\"Sun\",\"hour\":\"11:00 AM - 10:00 PM\"},{\"day\":\"Fri - Sat\",\"hour\":\"11:00 AM - Midnight\"},{\"day\":\"Mon - Thu\",\"hour\":\"11:00 AM - 11:00 PM\"},{\"day\":\"Sun\",\"hour\":\"11:30 am - 10:00 pm\"},{\"day\":\"Mon - Thu\",\"hour\":\"11:30 am - 11:00 pm\"},{\"day\":\"Fri - Sat\",\"hour\":\"11:30 am - 12:00 am\"}]                                                                                                                                                                                                                                                                                                 1\n",
      "[{\"day\":\"Tuesday - Friday\",\"hour\":\"12:00 PM - 9:00 PM\"},{\"day\":\"Saturday\",\"hour\":\"11:00 AM - 8:00 PM\"},{\"day\":\"Sunday\",\"hour\":\"12:00 PM - 5:00 PM\"},{\"day\":\"Sat\",\"hour\":\"11:00 AM - 8:00 PM\"},{\"day\":\"Sun\",\"hour\":\"Noon - 5:00 PM\"},{\"day\":\"Tue - Fri\",\"hour\":\"Noon - 9:00 PM\"}]                                                                                                                                                                                                                                                                                                                                                                                                                                                                            1\n",
      "[{\"day\":\"Monday - Wednesday\",\"hour\":\"4:00 PM - 9:00 PM\"},{\"day\":\"Thursday - Friday\",\"hour\":\"3:00 PM - 9:00 PM\"},{\"day\":\"Saturday - Sunday\",\"hour\":\"12:00 PM - 9:00 PM\"}]                                                                                                                                                                                                                                                                                                                                                                                                                                                                                                                                                                                    1\n",
      "Name: hours, dtype: int64\n"
     ]
    }
   ],
   "source": [
    "print(topsix.province.value_counts()[0:20])\n",
    "print(topsix.city.value_counts()[0:20])\n",
    "print(topsix.twitter.value_counts()[0:20])\n",
    "print(topsix.websites.value_counts()[0:20])\n",
    "print(topsix.postalCode.value_counts()[0:20])\n",
    "print(topsix.name.value_counts()[0:20])\n",
    "print(topsix.categories.value_counts()[0:20])\n",
    "print(topsix.address.value_counts()[0:20])\n",
    "print(topsix.hours.value_counts()[0:20])"
   ]
  },
  {
   "cell_type": "code",
   "execution_count": 26,
   "metadata": {},
   "outputs": [
    {
     "data": {
      "text/plain": [
       "id            1318\n",
       "address       1318\n",
       "categories    1318\n",
       "city          1318\n",
       "country       1318\n",
       "hours          661\n",
       "keys          1318\n",
       "latitude       937\n",
       "longitude      937\n",
       "menus          147\n",
       "name          1318\n",
       "postalCode    1180\n",
       "province      1318\n",
       "twitter        335\n",
       "websites       588\n",
       "dtype: int64"
      ]
     },
     "execution_count": 26,
     "metadata": {},
     "output_type": "execute_result"
    }
   ],
   "source": [
    "topsix.count()"
   ]
  },
  {
   "cell_type": "code",
   "execution_count": 55,
   "metadata": {},
   "outputs": [],
   "source": [
    "topsix_twitter = topsix.twitter.dropna()"
   ]
  },
  {
   "cell_type": "code",
   "execution_count": 56,
   "metadata": {},
   "outputs": [],
   "source": [
    "topsix_twitter = topsix_twitter.drop_duplicates()"
   ]
  },
  {
   "cell_type": "code",
   "execution_count": 58,
   "metadata": {},
   "outputs": [
    {
     "data": {
      "text/plain": [
       "279"
      ]
     },
     "execution_count": 58,
     "metadata": {},
     "output_type": "execute_result"
    }
   ],
   "source": [
    "topsix_twitter.count()"
   ]
  },
  {
   "cell_type": "code",
   "execution_count": 68,
   "metadata": {},
   "outputs": [
    {
     "name": "stdout",
     "output_type": "stream",
     "text": [
      "San Diego    294\n",
      "Seattle      251\n",
      "Portland     228\n",
      "Denver       216\n",
      "Chicago      188\n",
      "Austin       141\n",
      "Name: city, dtype: int64\n"
     ]
    }
   ],
   "source": [
    "city_values = topsix.city.value_counts()\n",
    "print(city_values)"
   ]
  },
  {
   "cell_type": "code",
   "execution_count": 73,
   "metadata": {},
   "outputs": [
    {
     "data": {
      "text/plain": [
       "<matplotlib.axes._subplots.AxesSubplot at 0x11a0d1358>"
      ]
     },
     "execution_count": 73,
     "metadata": {},
     "output_type": "execute_result"
    },
    {
     "name": "stderr",
     "output_type": "stream",
     "text": [
      "/Users/saultamariz/anaconda/lib/python3.6/site-packages/matplotlib/figure.py:2267: UserWarning: This figure includes Axes that are not compatible with tight_layout, so results might be incorrect.\n",
      "  warnings.warn(\"This figure includes Axes that are not compatible \"\n"
     ]
    },
    {
     "data": {
      "image/png": "[encoded data removed]",
      "text/plain": [
       "<Figure size 432x288 with 1 Axes>"
      ]
     },
     "metadata": {},
     "output_type": "display_data"
    }
   ],
   "source": [
    "city_values.plot.bar()"
   ]
  },
  {
   "cell_type": "code",
   "execution_count": 91,
   "metadata": {},
   "outputs": [
    {
     "name": "stdout",
     "output_type": "stream",
     "text": [
      "Brewery                                            165\n",
      "Brewers                                            135\n",
      "Attraction,Bars,Clubs and Nightlife,Brewery         67\n",
      "Restaurant,Brewery                                  31\n",
      "Restaurant,Pubs,Brewery                             25\n",
      "brewery                                             21\n",
      "Attraction,Bars,Clubs and Nightlife,Brewery,Pub     15\n",
      "Brewers,Wineries                                    14\n",
      "Breweries                                           13\n",
      "Brewery,Restaurant                                  13\n",
      "Breweries,Food & Drink                              11\n",
      "Restaurant,American,Pubs,Brewery                    10\n",
      "Restaurant,American,Pizza,Pubs,Brewery               9\n",
      "Restaurant,American,Brewery                          9\n",
      "Attraction,Brewery                                   8\n",
      "Name: categories, dtype: int64\n"
     ]
    }
   ],
   "source": [
    "catg_values = topsix.categories.value_counts()[0:15]\n",
    "print(catg_values)"
   ]
  },
  {
   "cell_type": "code",
   "execution_count": 92,
   "metadata": {},
   "outputs": [
    {
     "data": {
      "text/plain": [
       "<matplotlib.axes._subplots.AxesSubplot at 0x11aa2f6d8>"
      ]
     },
     "execution_count": 92,
     "metadata": {},
     "output_type": "execute_result"
    },
    {
     "name": "stderr",
     "output_type": "stream",
     "text": [
      "/Users/saultamariz/anaconda/lib/python3.6/site-packages/matplotlib/figure.py:2267: UserWarning: This figure includes Axes that are not compatible with tight_layout, so results might be incorrect.\n",
      "  warnings.warn(\"This figure includes Axes that are not compatible \"\n"
     ]
    },
    {
     "data": {
      "image/png": "[encoded data removed]",
      "text/plain": [
       "<Figure size 432x288 with 1 Axes>"
      ]
     },
     "metadata": {},
     "output_type": "display_data"
    }
   ],
   "source": [
    "catg_values.plot.pie()"
   ]
  },
  {
   "cell_type": "code",
   "execution_count": 101,
   "metadata": {},
   "outputs": [],
   "source": [
    "topsix['no_twitter']= topsix.twitter.isna()"
   ]
  },
  {
   "cell_type": "code",
   "execution_count": 102,
   "metadata": {},
   "outputs": [
    {
     "data": {
      "text/html": [
       "<div>\n",
       "<style scoped>\n",
       "    .dataframe tbody tr th:only-of-type {\n",
       "        vertical-align: middle;\n",
       "    }\n",
       "\n",
       "    .dataframe tbody tr th {\n",
       "        vertical-align: top;\n",
       "    }\n",
       "\n",
       "    .dataframe thead th {\n",
       "        text-align: right;\n",
       "    }\n",
       "</style>\n",
       "<table border=\"1\" class=\"dataframe\">\n",
       "  <thead>\n",
       "    <tr style=\"text-align: right;\">\n",
       "      <th></th>\n",
       "      <th>id</th>\n",
       "      <th>address</th>\n",
       "      <th>categories</th>\n",
       "      <th>city</th>\n",
       "      <th>country</th>\n",
       "      <th>hours</th>\n",
       "      <th>keys</th>\n",
       "      <th>latitude</th>\n",
       "      <th>longitude</th>\n",
       "      <th>menus</th>\n",
       "      <th>name</th>\n",
       "      <th>postalCode</th>\n",
       "      <th>province</th>\n",
       "      <th>twitter</th>\n",
       "      <th>websites</th>\n",
       "      <th>twitter?</th>\n",
       "      <th>has_twit</th>\n",
       "      <th>no_twitter</th>\n",
       "    </tr>\n",
       "  </thead>\n",
       "  <tbody>\n",
       "    <tr>\n",
       "      <th>568</th>\n",
       "      <td>AVwej-w3IN2L1WUf6HK8</td>\n",
       "      <td>1290 S Broadway</td>\n",
       "      <td>Brewery</td>\n",
       "      <td>Denver</td>\n",
       "      <td>US</td>\n",
       "      <td>[{\"day\":\"Monday\",\"hour\":\"None\"},{\"day\":\"Wednes...</td>\n",
       "      <td>us/co/denver/1290sbroadway/-2076057775</td>\n",
       "      <td>NaN</td>\n",
       "      <td>NaN</td>\n",
       "      <td>NaN</td>\n",
       "      <td>Former Future Brewing Company</td>\n",
       "      <td>80210</td>\n",
       "      <td>CO</td>\n",
       "      <td>formerfutureco</td>\n",
       "      <td>http://embracegoodtaste.com</td>\n",
       "      <td>False</td>\n",
       "      <td>False</td>\n",
       "      <td>False</td>\n",
       "    </tr>\n",
       "    <tr>\n",
       "      <th>640</th>\n",
       "      <td>AVwdQuH3ByjofQCxnPfO</td>\n",
       "      <td>1660 Champa St</td>\n",
       "      <td>Breweries &amp; Wineries</td>\n",
       "      <td>Denver</td>\n",
       "      <td>US</td>\n",
       "      <td>NaN</td>\n",
       "      <td>us/co/denver/1660champast/-1502535091</td>\n",
       "      <td>39.747169</td>\n",
       "      <td>-104.993057</td>\n",
       "      <td>NaN</td>\n",
       "      <td>D'vine Wine Denver</td>\n",
       "      <td>80202</td>\n",
       "      <td>CO</td>\n",
       "      <td>NaN</td>\n",
       "      <td>http://www.dvinewineusa.com</td>\n",
       "      <td>True</td>\n",
       "      <td>True</td>\n",
       "      <td>True</td>\n",
       "    </tr>\n",
       "    <tr>\n",
       "      <th>700</th>\n",
       "      <td>AVwc2E2VIN2L1WUfphDU</td>\n",
       "      <td>1555 Blake St</td>\n",
       "      <td>Music Venue,Bar and Music Venue,Bar,Pubs,Bars ...</td>\n",
       "      <td>Denver</td>\n",
       "      <td>US</td>\n",
       "      <td>[{\"day\":\"Mon - Sun\",\"hour\":\"11:00 AM - 2:00 AM...</td>\n",
       "      <td>us/co/denver/1555blakest/1757676697</td>\n",
       "      <td>39.750288</td>\n",
       "      <td>-104.999768</td>\n",
       "      <td>NaN</td>\n",
       "      <td>World of Beer</td>\n",
       "      <td>80202</td>\n",
       "      <td>CO</td>\n",
       "      <td>mapquest</td>\n",
       "      <td>http://worldofbeer.com/Locations/Lodo,http://m...</td>\n",
       "      <td>False</td>\n",
       "      <td>False</td>\n",
       "      <td>False</td>\n",
       "    </tr>\n",
       "    <tr>\n",
       "      <th>770</th>\n",
       "      <td>AVwdhk0DIN2L1WUfwqtr</td>\n",
       "      <td>7260 W Alaska Dr</td>\n",
       "      <td>Music Venue,Bars &amp; Pubs,Pubs,Breweries,Bar</td>\n",
       "      <td>Denver</td>\n",
       "      <td>US</td>\n",
       "      <td>[{\"day\":\"Mon - Fri\",\"hour\":\"2:00 PM - 2:00 AM\"...</td>\n",
       "      <td>us/co/denver/7260walaskadr/1757676697</td>\n",
       "      <td>39.709068</td>\n",
       "      <td>-105.077258</td>\n",
       "      <td>NaN</td>\n",
       "      <td>World of Beer</td>\n",
       "      <td>80226</td>\n",
       "      <td>CO</td>\n",
       "      <td>NaN</td>\n",
       "      <td>http://worldofbeer.com/Locations/Belmar</td>\n",
       "      <td>True</td>\n",
       "      <td>True</td>\n",
       "      <td>True</td>\n",
       "    </tr>\n",
       "    <tr>\n",
       "      <th>1002</th>\n",
       "      <td>AVwcizXVkufWRAb5wVk8</td>\n",
       "      <td>1257 W 120th Ave</td>\n",
       "      <td>American Restaurant,Brewery,Fast Food Restaura...</td>\n",
       "      <td>Denver</td>\n",
       "      <td>US</td>\n",
       "      <td>[{\"day\":\"Sun\",\"hour\":\"10:00 AM - Midnight\"},{\"...</td>\n",
       "      <td>us/westminster/denver/1257w120thave/581064341</td>\n",
       "      <td>39.914928</td>\n",
       "      <td>-105.000843</td>\n",
       "      <td>NaN</td>\n",
       "      <td>C.b. &amp; Potts</td>\n",
       "      <td>80234</td>\n",
       "      <td>Westminster</td>\n",
       "      <td>NaN</td>\n",
       "      <td>http://cbpotts.com</td>\n",
       "      <td>True</td>\n",
       "      <td>True</td>\n",
       "      <td>True</td>\n",
       "    </tr>\n",
       "  </tbody>\n",
       "</table>\n",
       "</div>"
      ],
      "text/plain": [
       "                        id           address  \\\n",
       "568   AVwej-w3IN2L1WUf6HK8   1290 S Broadway   \n",
       "640   AVwdQuH3ByjofQCxnPfO    1660 Champa St   \n",
       "700   AVwc2E2VIN2L1WUfphDU     1555 Blake St   \n",
       "770   AVwdhk0DIN2L1WUfwqtr  7260 W Alaska Dr   \n",
       "1002  AVwcizXVkufWRAb5wVk8  1257 W 120th Ave   \n",
       "\n",
       "                                             categories    city country  \\\n",
       "568                                             Brewery  Denver      US   \n",
       "640                                Breweries & Wineries  Denver      US   \n",
       "700   Music Venue,Bar and Music Venue,Bar,Pubs,Bars ...  Denver      US   \n",
       "770          Music Venue,Bars & Pubs,Pubs,Breweries,Bar  Denver      US   \n",
       "1002  American Restaurant,Brewery,Fast Food Restaura...  Denver      US   \n",
       "\n",
       "                                                  hours  \\\n",
       "568   [{\"day\":\"Monday\",\"hour\":\"None\"},{\"day\":\"Wednes...   \n",
       "640                                                 NaN   \n",
       "700   [{\"day\":\"Mon - Sun\",\"hour\":\"11:00 AM - 2:00 AM...   \n",
       "770   [{\"day\":\"Mon - Fri\",\"hour\":\"2:00 PM - 2:00 AM\"...   \n",
       "1002  [{\"day\":\"Sun\",\"hour\":\"10:00 AM - Midnight\"},{\"...   \n",
       "\n",
       "                                               keys   latitude   longitude  \\\n",
       "568          us/co/denver/1290sbroadway/-2076057775        NaN         NaN   \n",
       "640           us/co/denver/1660champast/-1502535091  39.747169 -104.993057   \n",
       "700             us/co/denver/1555blakest/1757676697  39.750288 -104.999768   \n",
       "770           us/co/denver/7260walaskadr/1757676697  39.709068 -105.077258   \n",
       "1002  us/westminster/denver/1257w120thave/581064341  39.914928 -105.000843   \n",
       "\n",
       "     menus                           name postalCode     province  \\\n",
       "568    NaN  Former Future Brewing Company      80210           CO   \n",
       "640    NaN             D'vine Wine Denver      80202           CO   \n",
       "700    NaN                  World of Beer      80202           CO   \n",
       "770    NaN                  World of Beer      80226           CO   \n",
       "1002   NaN                   C.b. & Potts      80234  Westminster   \n",
       "\n",
       "             twitter                                           websites  \\\n",
       "568   formerfutureco                        http://embracegoodtaste.com   \n",
       "640              NaN                        http://www.dvinewineusa.com   \n",
       "700         mapquest  http://worldofbeer.com/Locations/Lodo,http://m...   \n",
       "770              NaN            http://worldofbeer.com/Locations/Belmar   \n",
       "1002             NaN                                 http://cbpotts.com   \n",
       "\n",
       "      twitter?  has_twit  no_twitter  \n",
       "568      False     False       False  \n",
       "640       True      True        True  \n",
       "700      False     False       False  \n",
       "770       True      True        True  \n",
       "1002      True      True        True  "
      ]
     },
     "execution_count": 102,
     "metadata": {},
     "output_type": "execute_result"
    }
   ],
   "source": [
    "topsix.head()"
   ]
  },
  {
   "cell_type": "code",
   "execution_count": 116,
   "metadata": {},
   "outputs": [
    {
     "data": {
      "text/plain": [
       "<matplotlib.axes._subplots.AxesSubplot at 0x11b0b0978>"
      ]
     },
     "execution_count": 116,
     "metadata": {},
     "output_type": "execute_result"
    },
    {
     "name": "stderr",
     "output_type": "stream",
     "text": [
      "/Users/saultamariz/anaconda/lib/python3.6/site-packages/matplotlib/figure.py:2267: UserWarning: This figure includes Axes that are not compatible with tight_layout, so results might be incorrect.\n",
      "  warnings.warn(\"This figure includes Axes that are not compatible \"\n"
     ]
    },
    {
     "data": {
      "image/png": "[encoded data removed]",
      "text/plain": [
       "<Figure size 432x432 with 1 Axes>"
      ]
     },
     "metadata": {},
     "output_type": "display_data"
    }
   ],
   "source": [
    "topsix_twitter_value_counts = topsix.no_twitter.value_counts()\n",
    "topsix_twitter_value_counts.plot.pie(autopct='%.2f', fontsize=20, figsize=(6, 6))"
   ]
  },
  {
   "cell_type": "code",
   "execution_count": 117,
   "metadata": {},
   "outputs": [
    {
     "data": {
      "text/plain": [
       "<matplotlib.axes._subplots.AxesSubplot at 0x11b1e0da0>"
      ]
     },
     "execution_count": 117,
     "metadata": {},
     "output_type": "execute_result"
    },
    {
     "name": "stderr",
     "output_type": "stream",
     "text": [
      "/Users/saultamariz/anaconda/lib/python3.6/site-packages/matplotlib/figure.py:2267: UserWarning: This figure includes Axes that are not compatible with tight_layout, so results might be incorrect.\n",
      "  warnings.warn(\"This figure includes Axes that are not compatible \"\n"
     ]
    },
    {
     "data": {
      "image/png": "[encoded data removed]",
      "text/plain": [
       "<Figure size 432x432 with 1 Axes>"
      ]
     },
     "metadata": {},
     "output_type": "display_data"
    }
   ],
   "source": [
    "df2 = df\n",
    "df2['no_twitter']= df2.twitter.isna()\n",
    "df_twitter_value_counts = df2.no_twitter.value_counts()\n",
    "df_twitter_value_counts.plot.pie(autopct='%.2f', fontsize=20, figsize=(6, 6))"
   ]
  },
  {
   "cell_type": "code",
   "execution_count": 115,
   "metadata": {},
   "outputs": [
    {
     "data": {
      "text/plain": [
       "<matplotlib.axes._subplots.AxesSubplot at 0x11b2e4828>"
      ]
     },
     "execution_count": 115,
     "metadata": {},
     "output_type": "execute_result"
    },
    {
     "name": "stderr",
     "output_type": "stream",
     "text": [
      "/Users/saultamariz/anaconda/lib/python3.6/site-packages/matplotlib/figure.py:2267: UserWarning: This figure includes Axes that are not compatible with tight_layout, so results might be incorrect.\n",
      "  warnings.warn(\"This figure includes Axes that are not compatible \"\n"
     ]
    },
    {
     "data": {
      "image/png": "[encoded data removed]",
      "text/plain": [
       "<Figure size 432x432 with 1 Axes>"
      ]
     },
     "metadata": {},
     "output_type": "display_data"
    }
   ],
   "source": [
    "topsix['no_website'] = topsix.websites.isna()\n",
    "topsix_website_counts = topsix.no_website.value_counts()\n",
    "topsix_website_counts.plot.pie(autopct='%.2f', fontsize=20, figsize=(6, 6))"
   ]
  },
  {
   "cell_type": "code",
   "execution_count": 118,
   "metadata": {},
   "outputs": [
    {
     "data": {
      "text/plain": [
       "<matplotlib.axes._subplots.AxesSubplot at 0x11b527f60>"
      ]
     },
     "execution_count": 118,
     "metadata": {},
     "output_type": "execute_result"
    },
    {
     "name": "stderr",
     "output_type": "stream",
     "text": [
      "/Users/saultamariz/anaconda/lib/python3.6/site-packages/matplotlib/figure.py:2267: UserWarning: This figure includes Axes that are not compatible with tight_layout, so results might be incorrect.\n",
      "  warnings.warn(\"This figure includes Axes that are not compatible \"\n"
     ]
    },
    {
     "data": {
      "image/png": "[encoded data removed]",
      "text/plain": [
       "<Figure size 432x432 with 1 Axes>"
      ]
     },
     "metadata": {},
     "output_type": "display_data"
    }
   ],
   "source": [
    "df2['no_website'] = df2.websites.isna()\n",
    "df_website_counts = df2.no_website.value_counts()\n",
    "df_website_counts.plot.pie(autopct='%.2f', fontsize=20, figsize=(6, 6))"
   ]
  },
  {
   "cell_type": "code",
   "execution_count": 169,
   "metadata": {},
   "outputs": [
    {
     "data": {
      "text/plain": [
       "False    1190\n",
       "True      128\n",
       "Name: categories, dtype: int64"
      ]
     },
     "execution_count": 169,
     "metadata": {},
     "output_type": "execute_result"
    }
   ],
   "source": [
    "topsix.categories.str.contains('Attraction').value_counts()"
   ]
  },
  {
   "cell_type": "code",
   "execution_count": null,
   "metadata": {
    "collapsed": true
   },
   "outputs": [],
   "source": []
  }
 ],
 "metadata": {
  "kernelspec": {
   "display_name": "Python 3",
   "language": "python",
   "name": "python3"
  },
  "language_info": {
   "codemirror_mode": {
    "name": "ipython",
    "version": 3
   },
   "file_extension": ".py",
   "mimetype": "text/x-python",
   "name": "python",
   "nbconvert_exporter": "python",
   "pygments_lexer": "ipython3",
   "version": "3.6.1"
  }
 },
 "nbformat": 4,
 "nbformat_minor": 2
}
