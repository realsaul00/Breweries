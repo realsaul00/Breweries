{
 "cells": [
  {
   "cell_type": "code",
   "execution_count": 1,
   "metadata": {
    "collapsed": true
   },
   "outputs": [],
   "source": [
    "# import python libraries and packages\n",
    "from textblob import TextBlob\n",
    "import json\n",
    "import matplotlib.pyplot as plt\n",
    "%matplotlib inline  \n",
    "from  matplotlib import style\n",
    "import pandas as pd\n",
    "import numpy as np\n",
    "from itertools import *\n",
    "from matplotlib import rcParams\n",
    "rcParams.update({'figure.autolayout': True})\n",
    "\n",
    "#import all necessary packages for nltk, regex, and stopwords \n",
    "import nltk\n",
    "import re\n",
    "from nltk.stem import WordNetLemmatizer\n",
    "from nltk.corpus import stopwords"
   ]
  },
  {
   "cell_type": "code",
   "execution_count": 2,
   "metadata": {
    "collapsed": true
   },
   "outputs": [],
   "source": [
    "df = pd.read_csv('breweries.csv', encoding=\"latin1\")"
   ]
  },
  {
   "cell_type": "code",
   "execution_count": 3,
   "metadata": {},
   "outputs": [
    {
     "data": {
      "text/html": [
       "<div>\n",
       "<style scoped>\n",
       "    .dataframe tbody tr th:only-of-type {\n",
       "        vertical-align: middle;\n",
       "    }\n",
       "\n",
       "    .dataframe tbody tr th {\n",
       "        vertical-align: top;\n",
       "    }\n",
       "\n",
       "    .dataframe thead th {\n",
       "        text-align: right;\n",
       "    }\n",
       "</style>\n",
       "<table border=\"1\" class=\"dataframe\">\n",
       "  <thead>\n",
       "    <tr style=\"text-align: right;\">\n",
       "      <th></th>\n",
       "      <th>id</th>\n",
       "      <th>address</th>\n",
       "      <th>categories</th>\n",
       "      <th>city</th>\n",
       "      <th>country</th>\n",
       "      <th>hours</th>\n",
       "      <th>keys</th>\n",
       "      <th>latitude</th>\n",
       "      <th>longitude</th>\n",
       "      <th>menus</th>\n",
       "      <th>name</th>\n",
       "      <th>postalCode</th>\n",
       "      <th>province</th>\n",
       "      <th>twitter</th>\n",
       "      <th>websites</th>\n",
       "    </tr>\n",
       "  </thead>\n",
       "  <tbody>\n",
       "    <tr>\n",
       "      <th>0</th>\n",
       "      <td>AVweN1T_ByjofQCxwSPL</td>\n",
       "      <td>Syr Airport</td>\n",
       "      <td>Brewery</td>\n",
       "      <td>Syracuse</td>\n",
       "      <td>US</td>\n",
       "      <td>NaN</td>\n",
       "      <td>us/ny/syracuse/syrairport/2098450797</td>\n",
       "      <td>NaN</td>\n",
       "      <td>NaN</td>\n",
       "      <td>NaN</td>\n",
       "      <td>Adirondack Pub</td>\n",
       "      <td>NaN</td>\n",
       "      <td>NY</td>\n",
       "      <td>NaN</td>\n",
       "      <td>NaN</td>\n",
       "    </tr>\n",
       "    <tr>\n",
       "      <th>1</th>\n",
       "      <td>AVwdkF9ZIN2L1WUfxDfw</td>\n",
       "      <td>1320 N Doctor Martin Luther King Dr</td>\n",
       "      <td>Office and Cafeteria Brewer's Hill</td>\n",
       "      <td>Milwaukee</td>\n",
       "      <td>US</td>\n",
       "      <td>NaN</td>\n",
       "      <td>us/wi/milwaukee/1320ndoctormartinlutherkingdr/...</td>\n",
       "      <td>NaN</td>\n",
       "      <td>NaN</td>\n",
       "      <td>NaN</td>\n",
       "      <td>The Waterfront Cafe</td>\n",
       "      <td>53212</td>\n",
       "      <td>WI</td>\n",
       "      <td>NaN</td>\n",
       "      <td>NaN</td>\n",
       "    </tr>\n",
       "    <tr>\n",
       "      <th>2</th>\n",
       "      <td>AVwdlPkf_7pvs4fz7TMr</td>\n",
       "      <td>608 4th St</td>\n",
       "      <td>Brewery Downtown Clovis</td>\n",
       "      <td>Clovis</td>\n",
       "      <td>US</td>\n",
       "      <td>[{\"day\":\"Wed - Sat\",\"hour\":\"5:00 PM - 8:00 PM\"}]</td>\n",
       "      <td>us/ca/clovis/6084thst/-932885010</td>\n",
       "      <td>NaN</td>\n",
       "      <td>NaN</td>\n",
       "      <td>NaN</td>\n",
       "      <td>559 Local Brewing</td>\n",
       "      <td>93612</td>\n",
       "      <td>CA</td>\n",
       "      <td>NaN</td>\n",
       "      <td>http://fresnobrewing.com</td>\n",
       "    </tr>\n",
       "    <tr>\n",
       "      <th>3</th>\n",
       "      <td>AVwcucY0kufWRAb5yWbU</td>\n",
       "      <td>1103 Mills St</td>\n",
       "      <td>breweries &amp; brew pubs</td>\n",
       "      <td>Black Earth</td>\n",
       "      <td>US</td>\n",
       "      <td>NaN</td>\n",
       "      <td>us/wi/blackearth/1103millsst/-757413411</td>\n",
       "      <td>43.138995</td>\n",
       "      <td>-89.747904</td>\n",
       "      <td>NaN</td>\n",
       "      <td>Shack The</td>\n",
       "      <td>53515-9454</td>\n",
       "      <td>WI</td>\n",
       "      <td>NaN</td>\n",
       "      <td>NaN</td>\n",
       "    </tr>\n",
       "    <tr>\n",
       "      <th>4</th>\n",
       "      <td>AVweCkd5kufWRAb5_eaI</td>\n",
       "      <td>130 W Riverside Dr</td>\n",
       "      <td>Brewery and Gastropub Downtown Jeffersonville</td>\n",
       "      <td>Jeffersonville</td>\n",
       "      <td>US</td>\n",
       "      <td>[{\"day\":\"Wed - Thu\",\"hour\":\"3:00 PM - 9:00 PM\"...</td>\n",
       "      <td>us/utica/jeffersonville/130wriversidedr/787280564</td>\n",
       "      <td>NaN</td>\n",
       "      <td>NaN</td>\n",
       "      <td>NaN</td>\n",
       "      <td>Flat12 Bierworks</td>\n",
       "      <td>47130</td>\n",
       "      <td>Utica</td>\n",
       "      <td>flat12bierwerks</td>\n",
       "      <td>http://flat12.me/brewery</td>\n",
       "    </tr>\n",
       "  </tbody>\n",
       "</table>\n",
       "</div>"
      ],
      "text/plain": [
       "                     id                              address  \\\n",
       "0  AVweN1T_ByjofQCxwSPL                          Syr Airport   \n",
       "1  AVwdkF9ZIN2L1WUfxDfw  1320 N Doctor Martin Luther King Dr   \n",
       "2  AVwdlPkf_7pvs4fz7TMr                           608 4th St   \n",
       "3  AVwcucY0kufWRAb5yWbU                        1103 Mills St   \n",
       "4  AVweCkd5kufWRAb5_eaI                   130 W Riverside Dr   \n",
       "\n",
       "                                      categories            city country  \\\n",
       "0                                        Brewery        Syracuse      US   \n",
       "1             Office and Cafeteria Brewer's Hill       Milwaukee      US   \n",
       "2                        Brewery Downtown Clovis          Clovis      US   \n",
       "3                          breweries & brew pubs     Black Earth      US   \n",
       "4  Brewery and Gastropub Downtown Jeffersonville  Jeffersonville      US   \n",
       "\n",
       "                                               hours  \\\n",
       "0                                                NaN   \n",
       "1                                                NaN   \n",
       "2   [{\"day\":\"Wed - Sat\",\"hour\":\"5:00 PM - 8:00 PM\"}]   \n",
       "3                                                NaN   \n",
       "4  [{\"day\":\"Wed - Thu\",\"hour\":\"3:00 PM - 9:00 PM\"...   \n",
       "\n",
       "                                                keys   latitude  longitude  \\\n",
       "0               us/ny/syracuse/syrairport/2098450797        NaN        NaN   \n",
       "1  us/wi/milwaukee/1320ndoctormartinlutherkingdr/...        NaN        NaN   \n",
       "2                   us/ca/clovis/6084thst/-932885010        NaN        NaN   \n",
       "3            us/wi/blackearth/1103millsst/-757413411  43.138995 -89.747904   \n",
       "4  us/utica/jeffersonville/130wriversidedr/787280564        NaN        NaN   \n",
       "\n",
       "  menus                 name  postalCode province          twitter  \\\n",
       "0   NaN       Adirondack Pub         NaN       NY              NaN   \n",
       "1   NaN  The Waterfront Cafe       53212       WI              NaN   \n",
       "2   NaN    559 Local Brewing       93612       CA              NaN   \n",
       "3   NaN            Shack The  53515-9454       WI              NaN   \n",
       "4   NaN     Flat12 Bierworks       47130    Utica  flat12bierwerks   \n",
       "\n",
       "                   websites  \n",
       "0                       NaN  \n",
       "1                       NaN  \n",
       "2  http://fresnobrewing.com  \n",
       "3                       NaN  \n",
       "4  http://flat12.me/brewery  "
      ]
     },
     "execution_count": 3,
     "metadata": {},
     "output_type": "execute_result"
    }
   ],
   "source": [
    "df.head()"
   ]
  },
  {
   "cell_type": "code",
   "execution_count": 4,
   "metadata": {},
   "outputs": [
    {
     "data": {
      "text/html": [
       "<div>\n",
       "<style scoped>\n",
       "    .dataframe tbody tr th:only-of-type {\n",
       "        vertical-align: middle;\n",
       "    }\n",
       "\n",
       "    .dataframe tbody tr th {\n",
       "        vertical-align: top;\n",
       "    }\n",
       "\n",
       "    .dataframe thead th {\n",
       "        text-align: right;\n",
       "    }\n",
       "</style>\n",
       "<table border=\"1\" class=\"dataframe\">\n",
       "  <thead>\n",
       "    <tr style=\"text-align: right;\">\n",
       "      <th></th>\n",
       "      <th>latitude</th>\n",
       "      <th>longitude</th>\n",
       "    </tr>\n",
       "  </thead>\n",
       "  <tbody>\n",
       "    <tr>\n",
       "      <th>count</th>\n",
       "      <td>12324.000000</td>\n",
       "      <td>12324.000000</td>\n",
       "    </tr>\n",
       "    <tr>\n",
       "      <th>mean</th>\n",
       "      <td>38.479784</td>\n",
       "      <td>-95.132892</td>\n",
       "    </tr>\n",
       "    <tr>\n",
       "      <th>std</th>\n",
       "      <td>6.782906</td>\n",
       "      <td>24.187294</td>\n",
       "    </tr>\n",
       "    <tr>\n",
       "      <th>min</th>\n",
       "      <td>-33.753057</td>\n",
       "      <td>-159.675711</td>\n",
       "    </tr>\n",
       "    <tr>\n",
       "      <th>25%</th>\n",
       "      <td>34.842550</td>\n",
       "      <td>-117.258450</td>\n",
       "    </tr>\n",
       "    <tr>\n",
       "      <th>50%</th>\n",
       "      <td>39.331516</td>\n",
       "      <td>-91.253230</td>\n",
       "    </tr>\n",
       "    <tr>\n",
       "      <th>75%</th>\n",
       "      <td>42.360285</td>\n",
       "      <td>-80.353903</td>\n",
       "    </tr>\n",
       "    <tr>\n",
       "      <th>max</th>\n",
       "      <td>64.958011</td>\n",
       "      <td>126.981607</td>\n",
       "    </tr>\n",
       "  </tbody>\n",
       "</table>\n",
       "</div>"
      ],
      "text/plain": [
       "           latitude     longitude\n",
       "count  12324.000000  12324.000000\n",
       "mean      38.479784    -95.132892\n",
       "std        6.782906     24.187294\n",
       "min      -33.753057   -159.675711\n",
       "25%       34.842550   -117.258450\n",
       "50%       39.331516    -91.253230\n",
       "75%       42.360285    -80.353903\n",
       "max       64.958011    126.981607"
      ]
     },
     "execution_count": 4,
     "metadata": {},
     "output_type": "execute_result"
    }
   ],
   "source": [
    "df.describe()"
   ]
  },
  {
   "cell_type": "code",
   "execution_count": 5,
   "metadata": {},
   "outputs": [
    {
     "data": {
      "text/plain": [
       "(17823, 15)"
      ]
     },
     "execution_count": 5,
     "metadata": {},
     "output_type": "execute_result"
    }
   ],
   "source": [
    "df.shape"
   ]
  },
  {
   "cell_type": "code",
   "execution_count": 6,
   "metadata": {
    "collapsed": true
   },
   "outputs": [],
   "source": [
    "brew_catg = df[['categories','city']]"
   ]
  },
  {
   "cell_type": "code",
   "execution_count": 7,
   "metadata": {},
   "outputs": [
    {
     "data": {
      "text/html": [
       "<div>\n",
       "<style scoped>\n",
       "    .dataframe tbody tr th:only-of-type {\n",
       "        vertical-align: middle;\n",
       "    }\n",
       "\n",
       "    .dataframe tbody tr th {\n",
       "        vertical-align: top;\n",
       "    }\n",
       "\n",
       "    .dataframe thead th {\n",
       "        text-align: right;\n",
       "    }\n",
       "</style>\n",
       "<table border=\"1\" class=\"dataframe\">\n",
       "  <thead>\n",
       "    <tr style=\"text-align: right;\">\n",
       "      <th></th>\n",
       "      <th>categories</th>\n",
       "      <th>city</th>\n",
       "    </tr>\n",
       "  </thead>\n",
       "  <tbody>\n",
       "    <tr>\n",
       "      <th>0</th>\n",
       "      <td>Brewery</td>\n",
       "      <td>Syracuse</td>\n",
       "    </tr>\n",
       "    <tr>\n",
       "      <th>1</th>\n",
       "      <td>Office and Cafeteria Brewer's Hill</td>\n",
       "      <td>Milwaukee</td>\n",
       "    </tr>\n",
       "    <tr>\n",
       "      <th>2</th>\n",
       "      <td>Brewery Downtown Clovis</td>\n",
       "      <td>Clovis</td>\n",
       "    </tr>\n",
       "    <tr>\n",
       "      <th>3</th>\n",
       "      <td>breweries &amp; brew pubs</td>\n",
       "      <td>Black Earth</td>\n",
       "    </tr>\n",
       "    <tr>\n",
       "      <th>4</th>\n",
       "      <td>Brewery and Gastropub Downtown Jeffersonville</td>\n",
       "      <td>Jeffersonville</td>\n",
       "    </tr>\n",
       "  </tbody>\n",
       "</table>\n",
       "</div>"
      ],
      "text/plain": [
       "                                      categories            city\n",
       "0                                        Brewery        Syracuse\n",
       "1             Office and Cafeteria Brewer's Hill       Milwaukee\n",
       "2                        Brewery Downtown Clovis          Clovis\n",
       "3                          breweries & brew pubs     Black Earth\n",
       "4  Brewery and Gastropub Downtown Jeffersonville  Jeffersonville"
      ]
     },
     "execution_count": 7,
     "metadata": {},
     "output_type": "execute_result"
    }
   ],
   "source": [
    "brew_catg.head()"
   ]
  },
  {
   "cell_type": "code",
   "execution_count": 8,
   "metadata": {},
   "outputs": [
    {
     "name": "stdout",
     "output_type": "stream",
     "text": [
      "<class 'pandas.core.frame.DataFrame'>\n",
      "RangeIndex: 17823 entries, 0 to 17822\n",
      "Data columns (total 15 columns):\n",
      "id            17823 non-null object\n",
      "address       17823 non-null object\n",
      "categories    17823 non-null object\n",
      "city          17823 non-null object\n",
      "country       17823 non-null object\n",
      "hours         8015 non-null object\n",
      "keys          17823 non-null object\n",
      "latitude      12324 non-null float64\n",
      "longitude     12324 non-null float64\n",
      "menus         1479 non-null object\n",
      "name          17823 non-null object\n",
      "postalCode    17198 non-null object\n",
      "province      17823 non-null object\n",
      "twitter       3050 non-null object\n",
      "websites      6566 non-null object\n",
      "dtypes: float64(2), object(13)\n",
      "memory usage: 2.0+ MB\n"
     ]
    }
   ],
   "source": [
    "df.info()"
   ]
  },
  {
   "cell_type": "code",
   "execution_count": 9,
   "metadata": {},
   "outputs": [
    {
     "name": "stdout",
     "output_type": "stream",
     "text": [
      "<class 'pandas.core.frame.DataFrame'>\n",
      "RangeIndex: 17823 entries, 0 to 17822\n",
      "Data columns (total 2 columns):\n",
      "categories    17823 non-null object\n",
      "city          17823 non-null object\n",
      "dtypes: object(2)\n",
      "memory usage: 278.6+ KB\n"
     ]
    }
   ],
   "source": [
    "brew_catg.info()"
   ]
  },
  {
   "cell_type": "code",
   "execution_count": 10,
   "metadata": {
    "collapsed": true
   },
   "outputs": [],
   "source": [
    "# create two dataframes and string objects\n",
    "df_str = brew_catg.to_string()\n",
    "df_str2 = df_str.lower()"
   ]
  },
  {
   "cell_type": "code",
   "execution_count": 11,
   "metadata": {
    "collapsed": true
   },
   "outputs": [],
   "source": [
    "#import other python packages and libraries to do wordclouds, wordcounts, and remove stopwords\n",
    "from os import path\n",
    "from scipy.misc import imread\n",
    "import random\n",
    "from wordcloud import WordCloud, STOPWORDS"
   ]
  },
  {
   "cell_type": "code",
   "execution_count": 12,
   "metadata": {
    "collapsed": true
   },
   "outputs": [],
   "source": [
    "#import other python packages and libraries to do wordclouds, wordcounts, and remove stopwords\n",
    "import nltk\n",
    "import re\n",
    "from nltk.stem import WordNetLemmatizer\n",
    "from nltk.corpus import stopwords"
   ]
  },
  {
   "cell_type": "code",
   "execution_count": 13,
   "metadata": {},
   "outputs": [
    {
     "name": "stderr",
     "output_type": "stream",
     "text": [
      "/Users/saultamariz/anaconda/lib/python3.6/site-packages/matplotlib/figure.py:2267: UserWarning: This figure includes Axes that are not compatible with tight_layout, so results might be incorrect.\n",
      "  warnings.warn(\"This figure includes Axes that are not compatible \"\n"
     ]
    },
    {
     "data": {
      "image/png": "[encoded data removed]",
      "text/plain": [
       "<Figure size 432x288 with 1 Axes>"
      ]
     },
     "metadata": {},
     "output_type": "display_data"
    }
   ],
   "source": [
    "#create a wordclouds for string objects\n",
    "dfbrew_wc = WordCloud(font_path='/Library/Fonts/Verdana.ttf',\n",
    "                      relative_scaling = 0,\n",
    "                      stopwords = {''} \n",
    "                      ).generate(df_str2)\n",
    "plt.imshow(dfbrew_wc)\n",
    "plt.axis(\"off\")\n",
    "plt.show() "
   ]
  },
  {
   "cell_type": "code",
   "execution_count": 14,
   "metadata": {},
   "outputs": [
    {
     "name": "stdout",
     "output_type": "stream",
     "text": [
      "[('and', 2968), ('&', 2848), ('brewery', 2818), ('brewers', 2729), ('brew', 999), ('breweries', 716), ('beverage', 578), ('american', 517), ('beer', 439), ('food', 428), ('...', 393), ('drink', 390), ('restaurant,brewery', 340), ('wineries,brewers', 325), ('wineries,vineyards,brewers', 322), ('attraction,bars,clubs', 320), ('equipment', 312), ('restaurant', 311), ('bars', 293), ('breweries,food', 288), ('brewery,american', 288), ('pubs', 280), ('manufacturers,breweries', 262), ('bar', 262), ('liquor', 253), ('brewery,beer', 235), ('wholesale', 223), ('nightlife,brewery', 221), ('brewers,wineries', 202), ('brewery,', 201), ('pubs,beer', 200), ('wine', 196), ('garden', 182), ('drink,breweries', 163), ('ale', 144), ('bar,', 127), ('brewery,brewery', 124), ('brewery,restaurant', 118), ('bottlers,beverage', 115), ('clubs,bars', 114), ('restaurant,pizza', 112), ('r...', 102), ('pubs,bars', 100), ('ale,liquor', 99), ('brewers,brewery', 99), ('winemaking', 97), ('pub', 97), ('foods', 96), ('manufacturers,beverage', 93), ('alewholesale', 92)]\n",
      "<FreqDist with 24900 samples and 62154 outcomes>\n"
     ]
    },
    {
     "name": "stderr",
     "output_type": "stream",
     "text": [
      "/Users/saultamariz/anaconda/lib/python3.6/site-packages/matplotlib/figure.py:2267: UserWarning: This figure includes Axes that are not compatible with tight_layout, so results might be incorrect.\n",
      "  warnings.warn(\"This figure includes Axes that are not compatible \"\n"
     ]
    },
    {
     "data": {
      "image/png": "[encoded data removed]",
      "text/plain": [
       "<Figure size 432x288 with 1 Axes>"
      ]
     },
     "metadata": {},
     "output_type": "display_data"
    },
    {
     "name": "stdout",
     "output_type": "stream",
     "text": [
      "None\n"
     ]
    }
   ],
   "source": [
    "# dataframe for just reviews\n",
    "df_new = df[['categories']]\n",
    "\n",
    "# create two dataframes and string objects\n",
    "df_new_str = df_new.to_string()\n",
    "df_new_str2 = df_new_str.lower()\n",
    "df_new_str3 = df_new_str2.replace('-','')\n",
    "df_new_str4 = df_new_str3.split()\n",
    "\n",
    "# frequency distribution\n",
    "freq_words = nltk.FreqDist(df_new_str4)\n",
    "print(freq_words.most_common(50))\n",
    "print(freq_words)\n",
    "print(freq_words.plot(20))"
   ]
  },
  {
   "cell_type": "code",
   "execution_count": 15,
   "metadata": {
    "collapsed": true
   },
   "outputs": [],
   "source": [
    "denver = brew_catg[brew_catg.city=='Denver']\n",
    "denver = pd.DataFrame(denver)"
   ]
  },
  {
   "cell_type": "code",
   "execution_count": 16,
   "metadata": {},
   "outputs": [
    {
     "data": {
      "text/html": [
       "<div>\n",
       "<style scoped>\n",
       "    .dataframe tbody tr th:only-of-type {\n",
       "        vertical-align: middle;\n",
       "    }\n",
       "\n",
       "    .dataframe tbody tr th {\n",
       "        vertical-align: top;\n",
       "    }\n",
       "\n",
       "    .dataframe thead th {\n",
       "        text-align: right;\n",
       "    }\n",
       "</style>\n",
       "<table border=\"1\" class=\"dataframe\">\n",
       "  <thead>\n",
       "    <tr style=\"text-align: right;\">\n",
       "      <th></th>\n",
       "      <th>categories</th>\n",
       "      <th>city</th>\n",
       "    </tr>\n",
       "  </thead>\n",
       "  <tbody>\n",
       "    <tr>\n",
       "      <th>568</th>\n",
       "      <td>Brewery</td>\n",
       "      <td>Denver</td>\n",
       "    </tr>\n",
       "    <tr>\n",
       "      <th>640</th>\n",
       "      <td>Breweries &amp; Wineries</td>\n",
       "      <td>Denver</td>\n",
       "    </tr>\n",
       "    <tr>\n",
       "      <th>700</th>\n",
       "      <td>Music Venue,Bar and Music Venue,Bar,Pubs,Bars ...</td>\n",
       "      <td>Denver</td>\n",
       "    </tr>\n",
       "    <tr>\n",
       "      <th>770</th>\n",
       "      <td>Music Venue,Bars &amp; Pubs,Pubs,Breweries,Bar</td>\n",
       "      <td>Denver</td>\n",
       "    </tr>\n",
       "    <tr>\n",
       "      <th>1002</th>\n",
       "      <td>American Restaurant,Brewery,Fast Food Restaura...</td>\n",
       "      <td>Denver</td>\n",
       "    </tr>\n",
       "    <tr>\n",
       "      <th>1013</th>\n",
       "      <td>Airport Lounge,Brewery,Bar</td>\n",
       "      <td>Denver</td>\n",
       "    </tr>\n",
       "    <tr>\n",
       "      <th>1108</th>\n",
       "      <td>Brewers</td>\n",
       "      <td>Denver</td>\n",
       "    </tr>\n",
       "    <tr>\n",
       "      <th>1129</th>\n",
       "      <td>Restaurant,Pubs,Brewery</td>\n",
       "      <td>Denver</td>\n",
       "    </tr>\n",
       "    <tr>\n",
       "      <th>1313</th>\n",
       "      <td>Brewers,Restaurants</td>\n",
       "      <td>Denver</td>\n",
       "    </tr>\n",
       "    <tr>\n",
       "      <th>1355</th>\n",
       "      <td>Brewers,Brewery</td>\n",
       "      <td>Denver</td>\n",
       "    </tr>\n",
       "    <tr>\n",
       "      <th>1356</th>\n",
       "      <td>Brewers</td>\n",
       "      <td>Denver</td>\n",
       "    </tr>\n",
       "    <tr>\n",
       "      <th>1841</th>\n",
       "      <td>Brewers</td>\n",
       "      <td>Denver</td>\n",
       "    </tr>\n",
       "    <tr>\n",
       "      <th>1923</th>\n",
       "      <td>Brewers</td>\n",
       "      <td>Denver</td>\n",
       "    </tr>\n",
       "    <tr>\n",
       "      <th>1934</th>\n",
       "      <td>Brewers,Wineries</td>\n",
       "      <td>Denver</td>\n",
       "    </tr>\n",
       "    <tr>\n",
       "      <th>1954</th>\n",
       "      <td>Brewers,Wineries,Wholesale Foods,Wholesale Bee...</td>\n",
       "      <td>Denver</td>\n",
       "    </tr>\n",
       "    <tr>\n",
       "      <th>1966</th>\n",
       "      <td>Brewers</td>\n",
       "      <td>Denver</td>\n",
       "    </tr>\n",
       "    <tr>\n",
       "      <th>2035</th>\n",
       "      <td>Brewers</td>\n",
       "      <td>Denver</td>\n",
       "    </tr>\n",
       "    <tr>\n",
       "      <th>2037</th>\n",
       "      <td>Brewers</td>\n",
       "      <td>Denver</td>\n",
       "    </tr>\n",
       "    <tr>\n",
       "      <th>2271</th>\n",
       "      <td>Restaurant,American,Pizza,Pubs,Brewery</td>\n",
       "      <td>Denver</td>\n",
       "    </tr>\n",
       "    <tr>\n",
       "      <th>2315</th>\n",
       "      <td>Brewery,Restaurant</td>\n",
       "      <td>Denver</td>\n",
       "    </tr>\n",
       "    <tr>\n",
       "      <th>2554</th>\n",
       "      <td>Brewery,Beer Garden,Brewery and Beer Garden Co...</td>\n",
       "      <td>Denver</td>\n",
       "    </tr>\n",
       "    <tr>\n",
       "      <th>2586</th>\n",
       "      <td>Bars And Pubs,Craft Breweries,Brewers</td>\n",
       "      <td>Denver</td>\n",
       "    </tr>\n",
       "    <tr>\n",
       "      <th>2600</th>\n",
       "      <td>Brewery,Brewers,Restaurant,Spa</td>\n",
       "      <td>Denver</td>\n",
       "    </tr>\n",
       "    <tr>\n",
       "      <th>2674</th>\n",
       "      <td>Brewery,American Restaurant,Bar,Brewery, Ameri...</td>\n",
       "      <td>Denver</td>\n",
       "    </tr>\n",
       "    <tr>\n",
       "      <th>2687</th>\n",
       "      <td>Brewery,Bars And Pubs,Beer &amp; Ale Distributors</td>\n",
       "      <td>Denver</td>\n",
       "    </tr>\n",
       "    <tr>\n",
       "      <th>2697</th>\n",
       "      <td>Brewery,American Restaurant</td>\n",
       "      <td>Denver</td>\n",
       "    </tr>\n",
       "    <tr>\n",
       "      <th>2825</th>\n",
       "      <td>Restaurant,Bar,Brewery,Breweries,Brewery Berkeley</td>\n",
       "      <td>Denver</td>\n",
       "    </tr>\n",
       "    <tr>\n",
       "      <th>2835</th>\n",
       "      <td>Restaurant,American,Pubs,Brewery</td>\n",
       "      <td>Denver</td>\n",
       "    </tr>\n",
       "    <tr>\n",
       "      <th>2870</th>\n",
       "      <td>Restaurant,Pubs,Bar,American Restaurant,Bevera...</td>\n",
       "      <td>Denver</td>\n",
       "    </tr>\n",
       "    <tr>\n",
       "      <th>2875</th>\n",
       "      <td>Restaurant,Brewery,Restaurants,Billiards Pool ...</td>\n",
       "      <td>Denver</td>\n",
       "    </tr>\n",
       "    <tr>\n",
       "      <th>...</th>\n",
       "      <td>...</td>\n",
       "      <td>...</td>\n",
       "    </tr>\n",
       "    <tr>\n",
       "      <th>5900</th>\n",
       "      <td>Bars And Pubs,Craft Breweries</td>\n",
       "      <td>Denver</td>\n",
       "    </tr>\n",
       "    <tr>\n",
       "      <th>5983</th>\n",
       "      <td>Breweries,Brewery</td>\n",
       "      <td>Denver</td>\n",
       "    </tr>\n",
       "    <tr>\n",
       "      <th>6007</th>\n",
       "      <td>Breweries,Brewery,Gold Silver &amp; Platinum Buyer...</td>\n",
       "      <td>Denver</td>\n",
       "    </tr>\n",
       "    <tr>\n",
       "      <th>6118</th>\n",
       "      <td>Beverage Manufacturers,Vending Machine Manufac...</td>\n",
       "      <td>Denver</td>\n",
       "    </tr>\n",
       "    <tr>\n",
       "      <th>6137</th>\n",
       "      <td>Breweries</td>\n",
       "      <td>Denver</td>\n",
       "    </tr>\n",
       "    <tr>\n",
       "      <th>6367</th>\n",
       "      <td>Water Filtration Equipment Retail,Home Water F...</td>\n",
       "      <td>Denver</td>\n",
       "    </tr>\n",
       "    <tr>\n",
       "      <th>6656</th>\n",
       "      <td>Brewers</td>\n",
       "      <td>Denver</td>\n",
       "    </tr>\n",
       "    <tr>\n",
       "      <th>6799</th>\n",
       "      <td>Hobby Events,Beverage Manufacturers,Brewers,Br...</td>\n",
       "      <td>Denver</td>\n",
       "    </tr>\n",
       "    <tr>\n",
       "      <th>6835</th>\n",
       "      <td>Brewers,Wineries</td>\n",
       "      <td>Denver</td>\n",
       "    </tr>\n",
       "    <tr>\n",
       "      <th>6868</th>\n",
       "      <td>Brewers</td>\n",
       "      <td>Denver</td>\n",
       "    </tr>\n",
       "    <tr>\n",
       "      <th>6890</th>\n",
       "      <td>Brewers</td>\n",
       "      <td>Denver</td>\n",
       "    </tr>\n",
       "    <tr>\n",
       "      <th>6940</th>\n",
       "      <td>Brewery,restaurant</td>\n",
       "      <td>Denver</td>\n",
       "    </tr>\n",
       "    <tr>\n",
       "      <th>7113</th>\n",
       "      <td>Brewery</td>\n",
       "      <td>Denver</td>\n",
       "    </tr>\n",
       "    <tr>\n",
       "      <th>7413</th>\n",
       "      <td>Brewery</td>\n",
       "      <td>Denver</td>\n",
       "    </tr>\n",
       "    <tr>\n",
       "      <th>7454</th>\n",
       "      <td>breweries &amp; brew pubs</td>\n",
       "      <td>Denver</td>\n",
       "    </tr>\n",
       "    <tr>\n",
       "      <th>7541</th>\n",
       "      <td>Brewers</td>\n",
       "      <td>Denver</td>\n",
       "    </tr>\n",
       "    <tr>\n",
       "      <th>7917</th>\n",
       "      <td>Banquet facilities,Breweries and brew pubs,Kar...</td>\n",
       "      <td>Denver</td>\n",
       "    </tr>\n",
       "    <tr>\n",
       "      <th>7968</th>\n",
       "      <td>Brewery,Brew Pubs,Beer &amp; Ale</td>\n",
       "      <td>Denver</td>\n",
       "    </tr>\n",
       "    <tr>\n",
       "      <th>8032</th>\n",
       "      <td>Breweries and brew pubs,Halls and auditoriums,...</td>\n",
       "      <td>Denver</td>\n",
       "    </tr>\n",
       "    <tr>\n",
       "      <th>8076</th>\n",
       "      <td>Pub,Brewery,American Restaurant,Pub, Brewery, ...</td>\n",
       "      <td>Denver</td>\n",
       "    </tr>\n",
       "    <tr>\n",
       "      <th>8128</th>\n",
       "      <td>Steakhouse,American Restaurant,Brewery,Steakho...</td>\n",
       "      <td>Denver</td>\n",
       "    </tr>\n",
       "    <tr>\n",
       "      <th>8131</th>\n",
       "      <td>Brewery,Brewery University</td>\n",
       "      <td>Denver</td>\n",
       "    </tr>\n",
       "    <tr>\n",
       "      <th>8155</th>\n",
       "      <td>Clothing-retail,Restaurants,American restauran...</td>\n",
       "      <td>Denver</td>\n",
       "    </tr>\n",
       "    <tr>\n",
       "      <th>8223</th>\n",
       "      <td>American Restaurant,Brewery</td>\n",
       "      <td>Denver</td>\n",
       "    </tr>\n",
       "    <tr>\n",
       "      <th>8237</th>\n",
       "      <td>Brewers</td>\n",
       "      <td>Denver</td>\n",
       "    </tr>\n",
       "    <tr>\n",
       "      <th>8244</th>\n",
       "      <td>Brewers</td>\n",
       "      <td>Denver</td>\n",
       "    </tr>\n",
       "    <tr>\n",
       "      <th>8307</th>\n",
       "      <td>Brewery</td>\n",
       "      <td>Denver</td>\n",
       "    </tr>\n",
       "    <tr>\n",
       "      <th>8529</th>\n",
       "      <td>Brewery,Brewery Platt Park,restaurant</td>\n",
       "      <td>Denver</td>\n",
       "    </tr>\n",
       "    <tr>\n",
       "      <th>8530</th>\n",
       "      <td>Brewery,Bar</td>\n",
       "      <td>Denver</td>\n",
       "    </tr>\n",
       "    <tr>\n",
       "      <th>8538</th>\n",
       "      <td>Brewery</td>\n",
       "      <td>Denver</td>\n",
       "    </tr>\n",
       "  </tbody>\n",
       "</table>\n",
       "<p>100 rows × 2 columns</p>\n",
       "</div>"
      ],
      "text/plain": [
       "                                             categories    city\n",
       "568                                             Brewery  Denver\n",
       "640                                Breweries & Wineries  Denver\n",
       "700   Music Venue,Bar and Music Venue,Bar,Pubs,Bars ...  Denver\n",
       "770          Music Venue,Bars & Pubs,Pubs,Breweries,Bar  Denver\n",
       "1002  American Restaurant,Brewery,Fast Food Restaura...  Denver\n",
       "1013                         Airport Lounge,Brewery,Bar  Denver\n",
       "1108                                            Brewers  Denver\n",
       "1129                            Restaurant,Pubs,Brewery  Denver\n",
       "1313                                Brewers,Restaurants  Denver\n",
       "1355                                    Brewers,Brewery  Denver\n",
       "1356                                            Brewers  Denver\n",
       "1841                                            Brewers  Denver\n",
       "1923                                            Brewers  Denver\n",
       "1934                                   Brewers,Wineries  Denver\n",
       "1954  Brewers,Wineries,Wholesale Foods,Wholesale Bee...  Denver\n",
       "1966                                            Brewers  Denver\n",
       "2035                                            Brewers  Denver\n",
       "2037                                            Brewers  Denver\n",
       "2271             Restaurant,American,Pizza,Pubs,Brewery  Denver\n",
       "2315                                 Brewery,Restaurant  Denver\n",
       "2554  Brewery,Beer Garden,Brewery and Beer Garden Co...  Denver\n",
       "2586              Bars And Pubs,Craft Breweries,Brewers  Denver\n",
       "2600                     Brewery,Brewers,Restaurant,Spa  Denver\n",
       "2674  Brewery,American Restaurant,Bar,Brewery, Ameri...  Denver\n",
       "2687      Brewery,Bars And Pubs,Beer & Ale Distributors  Denver\n",
       "2697                        Brewery,American Restaurant  Denver\n",
       "2825  Restaurant,Bar,Brewery,Breweries,Brewery Berkeley  Denver\n",
       "2835                   Restaurant,American,Pubs,Brewery  Denver\n",
       "2870  Restaurant,Pubs,Bar,American Restaurant,Bevera...  Denver\n",
       "2875  Restaurant,Brewery,Restaurants,Billiards Pool ...  Denver\n",
       "...                                                 ...     ...\n",
       "5900                      Bars And Pubs,Craft Breweries  Denver\n",
       "5983                                  Breweries,Brewery  Denver\n",
       "6007  Breweries,Brewery,Gold Silver & Platinum Buyer...  Denver\n",
       "6118  Beverage Manufacturers,Vending Machine Manufac...  Denver\n",
       "6137                                          Breweries  Denver\n",
       "6367  Water Filtration Equipment Retail,Home Water F...  Denver\n",
       "6656                                            Brewers  Denver\n",
       "6799  Hobby Events,Beverage Manufacturers,Brewers,Br...  Denver\n",
       "6835                                   Brewers,Wineries  Denver\n",
       "6868                                            Brewers  Denver\n",
       "6890                                            Brewers  Denver\n",
       "6940                                 Brewery,restaurant  Denver\n",
       "7113                                            Brewery  Denver\n",
       "7413                                            Brewery  Denver\n",
       "7454                              breweries & brew pubs  Denver\n",
       "7541                                            Brewers  Denver\n",
       "7917  Banquet facilities,Breweries and brew pubs,Kar...  Denver\n",
       "7968                       Brewery,Brew Pubs,Beer & Ale  Denver\n",
       "8032  Breweries and brew pubs,Halls and auditoriums,...  Denver\n",
       "8076  Pub,Brewery,American Restaurant,Pub, Brewery, ...  Denver\n",
       "8128  Steakhouse,American Restaurant,Brewery,Steakho...  Denver\n",
       "8131                         Brewery,Brewery University  Denver\n",
       "8155  Clothing-retail,Restaurants,American restauran...  Denver\n",
       "8223                        American Restaurant,Brewery  Denver\n",
       "8237                                            Brewers  Denver\n",
       "8244                                            Brewers  Denver\n",
       "8307                                            Brewery  Denver\n",
       "8529              Brewery,Brewery Platt Park,restaurant  Denver\n",
       "8530                                        Brewery,Bar  Denver\n",
       "8538                                            Brewery  Denver\n",
       "\n",
       "[100 rows x 2 columns]"
      ]
     },
     "execution_count": 16,
     "metadata": {},
     "output_type": "execute_result"
    }
   ],
   "source": [
    "denver[0:100]"
   ]
  },
  {
   "cell_type": "code",
   "execution_count": 17,
   "metadata": {},
   "outputs": [
    {
     "data": {
      "text/plain": [
       "(216, 2)"
      ]
     },
     "execution_count": 17,
     "metadata": {},
     "output_type": "execute_result"
    }
   ],
   "source": [
    "denver.shape"
   ]
  },
  {
   "cell_type": "code",
   "execution_count": 18,
   "metadata": {
    "collapsed": true
   },
   "outputs": [],
   "source": [
    "# create two dataframes and string objects\n",
    "denver_str = denver.to_string()\n",
    "denver_str2 = denver_str.lower()"
   ]
  },
  {
   "cell_type": "code",
   "execution_count": 19,
   "metadata": {},
   "outputs": [
    {
     "name": "stderr",
     "output_type": "stream",
     "text": [
      "/Users/saultamariz/anaconda/lib/python3.6/site-packages/matplotlib/figure.py:2267: UserWarning: This figure includes Axes that are not compatible with tight_layout, so results might be incorrect.\n",
      "  warnings.warn(\"This figure includes Axes that are not compatible \"\n"
     ]
    },
    {
     "data": {
      "image/png": "[encoded data removed]",
      "text/plain": [
       "<Figure size 432x288 with 1 Axes>"
      ]
     },
     "metadata": {},
     "output_type": "display_data"
    }
   ],
   "source": [
    "#create a wordclouds for string objects\n",
    "denver_wc = WordCloud(font_path='/Library/Fonts/Verdana.ttf',\n",
    "                      relative_scaling = 0,\n",
    "                      stopwords = {''} \n",
    "                      ).generate(denver_str2)\n",
    "plt.imshow(denver_wc)\n",
    "plt.axis(\"off\")\n",
    "plt.show() "
   ]
  },
  {
   "cell_type": "code",
   "execution_count": 20,
   "metadata": {},
   "outputs": [
    {
     "name": "stdout",
     "output_type": "stream",
     "text": [
      "[('brewery', 2818), ('brewers', 2729), ('brew', 999), ('breweries', 716), ('beverage', 578), ('american', 517), ('...', 459), ('beer', 439), ('food', 428), ('drink', 390), ('restaurant,brewery', 340), ('wineries,brewers', 325), ('wineries,vineyards,brewers', 322), ('attraction,bars,clubs', 320), ('equipment', 312), ('restaurant', 311), ('bars', 293), ('breweries,food', 288), ('brewery,american', 288), ('pubs', 280), ('manufacturers,breweries', 262), ('bar', 262), ('liquor', 253), ('brewery,beer', 235), ('wholesale', 223), ('nightlife,brewery', 221), ('brewers,wineries', 202), ('brewery,', 201), ('pubs,beer', 200), ('wine', 196), ('garden', 182), ('drink,breweries', 163), ('ale', 144), ('bar,', 127), ('brewery,brewery', 124), ('brewery,restaurant', 118), ('bottlers,beverage', 115), ('clubs,bars', 114), ('restaurant,pizza', 112), ('r...', 102), ('pubs,bars', 100), ('ale,liquor', 99), ('brewers,brewery', 99), ('winemaking', 97), ('pub', 97), ('foods', 96), ('manufacturers,beverage', 93), ('ale-wholesale', 92), ('stores', 90), ('shop,', 89)]\n",
      "<FreqDist with 24900 samples and 56374 outcomes>\n"
     ]
    },
    {
     "name": "stderr",
     "output_type": "stream",
     "text": [
      "/Users/saultamariz/anaconda/lib/python3.6/site-packages/matplotlib/figure.py:2267: UserWarning: This figure includes Axes that are not compatible with tight_layout, so results might be incorrect.\n",
      "  warnings.warn(\"This figure includes Axes that are not compatible \"\n"
     ]
    },
    {
     "data": {
      "image/png": "[encoded data removed]",
      "text/plain": [
       "<Figure size 432x288 with 1 Axes>"
      ]
     },
     "metadata": {},
     "output_type": "display_data"
    },
    {
     "name": "stdout",
     "output_type": "stream",
     "text": [
      "None\n"
     ]
    }
   ],
   "source": [
    "# dataframe for just reviews\n",
    "denver_new = denver[['categories']]\n",
    "\n",
    "# create two dataframes and string objects\n",
    "df_new_str = df_new.to_string()\n",
    "df_new_str2 = df_new_str.lower()\n",
    "df_new_str3 = df_new_str2.replace('and','')\n",
    "df_new_str4 = df_new_str3.replace('&','')\n",
    "df_new_str5 = df_new_str4.split()\n",
    "\n",
    "# frequency distribution\n",
    "freq_words = nltk.FreqDist(df_new_str5)\n",
    "print(freq_words.most_common(50))\n",
    "print(freq_words)\n",
    "print(freq_words.plot(50))"
   ]
  },
  {
   "cell_type": "code",
   "execution_count": 21,
   "metadata": {},
   "outputs": [
    {
     "name": "stderr",
     "output_type": "stream",
     "text": [
      "/Users/saultamariz/anaconda/lib/python3.6/site-packages/seaborn/categorical.py:1428: FutureWarning: remove_na is deprecated and is a private function. Do not use.\n",
      "  stat_data = remove_na(group_data)\n",
      "/Users/saultamariz/anaconda/lib/python3.6/site-packages/matplotlib/figure.py:2267: UserWarning: This figure includes Axes that are not compatible with tight_layout, so results might be incorrect.\n",
      "  warnings.warn(\"This figure includes Axes that are not compatible \"\n"
     ]
    },
    {
     "data": {
      "image/png": "[encoded data removed]",
      "text/plain": [
       "<Figure size 576x396 with 1 Axes>"
      ]
     },
     "metadata": {},
     "output_type": "display_data"
    }
   ],
   "source": [
    "%matplotlib inline\n",
    "import seaborn as sns\n",
    "import matplotlib.pyplot as plt\n",
    "state_count = df['province'].value_counts()\n",
    "sns.set(style=\"darkgrid\")\n",
    "sns.barplot(state_count.index, state_count.values, alpha=0.9)\n",
    "plt.title('Frequency Distribution of States')\n",
    "plt.ylabel('Number of Occurrences', fontsize=12)\n",
    "plt.xlabel('States', fontsize=12)\n",
    "plt.show()"
   ]
  },
  {
   "cell_type": "code",
   "execution_count": 22,
   "metadata": {},
   "outputs": [
    {
     "name": "stdout",
     "output_type": "stream",
     "text": [
      "CA    2707\n",
      "NY     846\n",
      "FL     838\n",
      "TX     829\n",
      "WA     814\n",
      "CO     757\n",
      "PA     689\n",
      "OR     633\n",
      "OH     624\n",
      "NC     612\n",
      "MI     517\n",
      "IL     484\n",
      "VA     443\n",
      "WI     410\n",
      "AZ     368\n",
      "NJ     334\n",
      "MA     297\n",
      "IN     272\n",
      "MN     255\n",
      "GA     237\n",
      "Name: province, dtype: int64\n"
     ]
    }
   ],
   "source": [
    "print(state_count[0:20])"
   ]
  },
  {
   "cell_type": "code",
   "execution_count": 23,
   "metadata": {},
   "outputs": [
    {
     "name": "stdout",
     "output_type": "stream",
     "text": [
      "San Diego        294\n",
      "Seattle          251\n",
      "Portland         228\n",
      "Denver           216\n",
      "Chicago          188\n",
      "Austin           141\n",
      "Milwaukee        134\n",
      "Columbus         131\n",
      "Houston          120\n",
      "New York          98\n",
      "San Francisco     95\n",
      "Philadelphia      92\n",
      "Dallas            91\n",
      "Phoenix           89\n",
      "Charlotte         88\n",
      "Cleveland         86\n",
      "Cincinnati        86\n",
      "Minneapolis       86\n",
      "Albuquerque       83\n",
      "Saint Louis       79\n",
      "Name: city, dtype: int64\n"
     ]
    }
   ],
   "source": [
    "city_count = df['city'].value_counts()\n",
    "print(city_count[0:20])"
   ]
  },
  {
   "cell_type": "code",
   "execution_count": 24,
   "metadata": {},
   "outputs": [
    {
     "name": "stdout",
     "output_type": "stream",
     "text": [
      "Brewers                                                                                                                                                                                                                                                                                       2727\n",
      "Brewery                                                                                                                                                                                                                                                                                       2053\n",
      "Wineries,Brewers                                                                                                                                                                                                                                                                               325\n",
      "Wineries,Vineyards,Brewers                                                                                                                                                                                                                                                                     322\n",
      "Breweries,Food & Drink                                                                                                                                                                                                                                                                         270\n",
      "Attraction,Bars,Clubs and Nightlife,Brewery                                                                                                                                                                                                                                                    218\n",
      "Brewers,Wineries                                                                                                                                                                                                                                                                               202\n",
      "Beverage Manufacturers,Breweries                                                                                                                                                                                                                                                               189\n",
      "breweries & brew pubs                                                                                                                                                                                                                                                                          150\n",
      "Restaurant,Brewery                                                                                                                                                                                                                                                                             128\n",
      "Food & Drink,Breweries                                                                                                                                                                                                                                                                         125\n",
      "Brewery,Restaurant                                                                                                                                                                                                                                                                             109\n",
      "Brewery,Brewers                                                                                                                                                                                                                                                                                 86\n",
      "brewery                                                                                                                                                                                                                                                                                         85\n",
      "Brewers,Brewery                                                                                                                                                                                                                                                                                 82\n",
      "Brewery,American Restaurant                                                                                                                                                                                                                                                                     74\n",
      "Breweries                                                                                                                                                                                                                                                                                       71\n",
      "Restaurant,Pubs,Brewery                                                                                                                                                                                                                                                                         70\n",
      "Brewery,Bar                                                                                                                                                                                                                                                                                     69\n",
      "Breweries,Wholesale Foods                                                                                                                                                                                                                                                                       60\n",
      "Bottlers,Beverage Manufacturers,Breweries                                                                                                                                                                                                                                                       59\n",
      "Brewery,Beer Garden                                                                                                                                                                                                                                                                             56\n",
      "Restaurant,American,Pubs,Brewery                                                                                                                                                                                                                                                                56\n",
      "Beverage Manufacturers,Bottlers,Breweries                                                                                                                                                                                                                                                       46\n",
      "Wholesale Foods,Breweries                                                                                                                                                                                                                                                                       45\n",
      "Breweries & Brew Pubs                                                                                                                                                                                                                                                                           44\n",
      "Restaurant,American,Brewery                                                                                                                                                                                                                                                                     42\n",
      "Brewers,Restaurant                                                                                                                                                                                                                                                                              42\n",
      "American Restaurant,Brewery                                                                                                                                                                                                                                                                     38\n",
      "Pub,Brewery                                                                                                                                                                                                                                                                                     37\n",
      "                                                                                                                                                                                                                                                                                              ... \n",
      "Breweries and brew pubs,Pizza,Restaurants,American restaurants,Bar and grill restaurants,Pub restaurants                                                                                                                                                                                         1\n",
      "Other Food & Drink,Shopping,Specialty & Gift Shops,More,Food & Drink,Gift & Specialty Shops,Breweries,Distilleries                                                                                                                                                                               1\n",
      "Brewery,American Restaurant,Il\\\\brewery                                                                                                                                                                                                                                                          1\n",
      "Breweries and brew pubs,Importers,Restaurants,Bar and grill restaurants,Pub restaurants,Brewers,Wineries                                                                                                                                                                                         1\n",
      "Winemaking Equipment & Supplies,Brewer Equipment Supplies & Services,Bar Equipment Fixtures & Supplies,E-Commerce                                                                                                                                                                                1\n",
      "Brewers,Restaurant,Brewery and Beer Garden                                                                                                                                                                                                                                                       1\n",
      "Brew Pubs,Beer and Ale,Restaurants,Bars,Brewers,Food & Drink,Beer & Ale,Brewery,Breweries                                                                                                                                                                                                        1\n",
      "Marketing Consultants,Beverage Manufacturers,Bottlers,Flavoring Extract Manufacturers,Breweries,Advertising,Exporters,Wholesale Foods                                                                                                                                                            1\n",
      "Brewery Feria                                                                                                                                                                                                                                                                                    1\n",
      "Hobby Shop,Brewers,Hydroponics                                                                                                                                                                                                                                                                   1\n",
      "Restaurant,American,Brewery,American Restaurants,Brew Pubs,Bar & Grills,Banquet Halls & Reception Facilities,African Restaurants,Beer & Ale,Bars,Taverns,Restaurants                                                                                                                             1\n",
      "Convenience Stores,Liquor Store,Arcades & Amusements,Casino,Brewery,Beverages Retail,Snack Foods Retail,Beer & Ale Distributors                                                                                                                                                                  1\n",
      "Brewery Lista,Brewery                                                                                                                                                                                                                                                                            1\n",
      "Fruit and Vegetable Growers and Shippers,Wineries,Wine,Vineyards,Brewers                                                                                                                                                                                                                         1\n",
      "Brew Pubs,Bars,Beer and Ale,Taverns,Restaurants,Brewery,Beer & Ale Distributors                                                                                                                                                                                                                  1\n",
      "Beverage Manufacturers,Juice Manufacturers,Breweries,Beverages                                                                                                                                                                                                                                   1\n",
      "Italian Restaurant,Brewery,Pizza Place                                                                                                                                                                                                                                                           1\n",
      "American Restaurant and Brewery,American Restaurant                                                                                                                                                                                                                                              1\n",
      "Brewery,Brewery Downtown Asheville                                                                                                                                                                                                                                                               1\n",
      "Beverage Manufacturers,Candy Manufacturers,Breweries,Tobacco Product Manufacturers,Tobacco Crops,Wholesale Tobacco Products,Food Products-Wholesale,Wholesale Grocers,Paper & Plastic Cups Containers & Utensils,,Tobacco,Concession Supplies & Concessionaires,Grocery Stores,Restaurants       1\n",
      "Brewers,Cazenovia, NY,Beverages,Malt Beverages                                                                                                                                                                                                                                                   1\n",
      "Pizza Place,Sports Bar,Brewery,Pizza Place and Sports Bar                                                                                                                                                                                                                                        1\n",
      "Brewery,American Restaurant,Pubs,Breweries                                                                                                                                                                                                                                                       1\n",
      "Brew Pubs,Beer and Ale,American Restaurants,Bars,Taverns,Bar and Grills,Restaurants,Brewery,Bar,Breweries and brew pubs,Karaoke,Bar and grill restaurants,Hamburger restaurants,Hot dog restaurants,Pub restaurants,Brewers,Wineries,Restaurant,Brewery and Bar Downtown Royal Oak               1\n",
      "Brewers,Breweries and brew pubs,Restaurants,American restaurants,Pub restaurants,Restaurant                                                                                                                                                                                                      1\n",
      "Bar,Sandwich Place,Salad Place,Soup Place,Sandwich Place, Soup Place, and Salad Place Northeast San Antonio,Sandwich Place Northeast San Antonio,Bar Northeast San Antonio,breweries & brew pubs,bar & grill restaurants                                                                         1\n",
      "Brewery Northeastern Baltimore                                                                                                                                                                                                                                                                   1\n",
      "Brewery,Beer and Ale,Brew Pubs,Restaurants,Restaurant,Brewery Ballard                                                                                                                                                                                                                            1\n",
      "Breweries and brew pubs,Carry-out food,Karaoke,Pizza,Restaurants,American restaurants,Bar and grill restaurants,Pub restaurants,Sandwiches,Take out restaurants                                                                                                                                  1\n",
      "OR\\\\Brewery                                                                                                                                                                                                                                                                                      1\n",
      "Name: categories, Length: 1000, dtype: int64\n"
     ]
    }
   ],
   "source": [
    "category_count = df['categories'].value_counts()\n",
    "print(category_count[0:1000])"
   ]
  },
  {
   "cell_type": "code",
   "execution_count": 25,
   "metadata": {},
   "outputs": [
    {
     "name": "stdout",
     "output_type": "stream",
     "text": [
      "93446    51\n",
      "94558    49\n",
      "95448    44\n",
      "43215    42\n",
      "99362    39\n",
      "80301    39\n",
      "94574    38\n",
      "80205    36\n",
      "92121    35\n",
      "98107    34\n",
      "28801    30\n",
      "98072    29\n",
      "92104    29\n",
      "98402    29\n",
      "4412     29\n",
      "80524    27\n",
      "98103    27\n",
      "98134    27\n",
      "97214    27\n",
      "92081    25\n",
      "Name: postalCode, dtype: int64\n"
     ]
    }
   ],
   "source": [
    "zipcode_count = df['postalCode'].value_counts()\n",
    "print(zipcode_count[0:20])"
   ]
  },
  {
   "cell_type": "code",
   "execution_count": 26,
   "metadata": {},
   "outputs": [
    {
     "name": "stdout",
     "output_type": "stream",
     "text": [
      "Total Wine & More                    113\n",
      "BJ's Restaurant and Brewhouse        111\n",
      "Coca-Cola Bottling Co                 45\n",
      "Gordon Biersch Brewery Restaurant     44\n",
      "Pepsi Bottling Group                  42\n",
      "Granite City Food & Brewery           41\n",
      "Rock Bottom Restaurant & Brewery      41\n",
      "BJ's Restaurant & Brew House          37\n",
      "Kroger                                36\n",
      "Coca-Cola Enterprises Inc             33\n",
      "Total Wine More                       30\n",
      "BJ's Restaurant & Brewhouse           25\n",
      "World of Beer                         21\n",
      "Pepsi Beverages Co                    18\n",
      "Dr Pepper Snapple Group               17\n",
      "Coca-Cola Bottling Co.                16\n",
      "100 Montaditos                        16\n",
      "Coca-Cola Co                          15\n",
      "World Of Beer                         15\n",
      "Ram Restaurant & Brewery              15\n",
      "Name: name, dtype: int64\n"
     ]
    }
   ],
   "source": [
    "name_count = df['name'].value_counts()\n",
    "print(name_count[0:20])"
   ]
  },
  {
   "cell_type": "code",
   "execution_count": 27,
   "metadata": {},
   "outputs": [
    {
     "name": "stdout",
     "output_type": "stream",
     "text": [
      "bjsrestaurants    135\n",
      "totalwine         124\n",
      "hmshost            24\n",
      "captainneon        21\n",
      "gcfb               17\n",
      "theram             16\n",
      "bevmo              15\n",
      "rockbottom         12\n",
      "gordon_biersch     10\n",
      "frysfoodstores      8\n",
      "Name: twitter, dtype: int64\n"
     ]
    }
   ],
   "source": [
    "twitter_count = df['twitter'].value_counts()\n",
    "print(twitter_count[0:10])"
   ]
  },
  {
   "cell_type": "code",
   "execution_count": 28,
   "metadata": {},
   "outputs": [
    {
     "name": "stdout",
     "output_type": "stream",
     "text": [
      "http://t.co/bl46gcjDLN       92\n",
      "http://totalwine.com         40\n",
      "http://kroger.com            36\n",
      "http://www.totalwine.com     32\n",
      "http://gordonbiersch.com     28\n",
      "http://theram.com            14\n",
      "http://oggis.com             11\n",
      "http://www.rockbottom.com     9\n",
      "http://gcfb.net               9\n",
      "http://rockbottom.com         9\n",
      "Name: websites, dtype: int64\n"
     ]
    }
   ],
   "source": [
    "websites_count = df['websites'].value_counts()\n",
    "print(websites_count[0:10])"
   ]
  },
  {
   "cell_type": "code",
   "execution_count": 29,
   "metadata": {},
   "outputs": [
    {
     "name": "stdout",
     "output_type": "stream",
     "text": [
      "[{\"day\":\"Monday - Thursday, Sunday\",\"hour\":\"11:00 AM - 11:00 PM\"},{\"day\":\"Friday - Saturday\",\"hour\":\"11:00 AM - 12:00 AM\"}]                                                                                                         26\n",
      "[{\"day\":\"Monday - Thursday, Sunday\",\"hour\":\"11:00 AM - 12:00 AM\"},{\"day\":\"Friday - Saturday\",\"hour\":\"11:00 AM - 1:00 AM\"},{\"day\":\"Mon - Thu, Sun\",\"hour\":\"11:00 AM - Midnight\"},{\"day\":\"Fri - Sat\",\"hour\":\"11:00 AM - 1:00 AM\"}]    15\n",
      "[{\"day\":\"Monday - Thursday, Sunday\",\"hour\":\"11:00 AM - 12:00 AM\"},{\"day\":\"Friday - Saturday\",\"hour\":\"11:00 AM - 1:00 AM\"}]                                                                                                          15\n",
      "[{\"day\":\"Monday - Sunday\",\"hour\":\"11:00 AM - 12:00 AM\"}]                                                                                                                                                                            14\n",
      "[{\"day\":\"Monday - Thursday\",\"hour\":\"11:00 AM - 11:00 PM\"},{\"day\":\"Friday - Saturday\",\"hour\":\"11:00 AM - 12:00 AM\"},{\"day\":\"Sunday\",\"hour\":\"11:00 AM - 10:00 PM\"}]                                                                   13\n",
      "[{\"day\":\"Monday - Thursday, Sunday\",\"hour\":\"11:00 AM - 10:00 PM\"},{\"day\":\"Friday - Saturday\",\"hour\":\"11:00 AM - 11:00 PM\"}]                                                                                                         12\n",
      "[{\"day\":\"Monday - Sunday\",\"hour\":\"24 Hours\"}]                                                                                                                                                                                       11\n",
      "[{\"day\":\"Monday - Sunday\",\"hour\":\"11:00 AM - 2:00 AM\"},{\"day\":\"Mon - Sun\",\"hour\":\"11:00 AM - 2:00 AM\"}]                                                                                                                             10\n",
      "[{\"day\":\"Monday - Friday\",\"hour\":\"8:00 am - 5:00 pm\"}]                                                                                                                                                                               9\n",
      "[{\"day\":\"Mon - Sun\",\"hour\":\"11:00 AM - 11:00 PM\"}]                                                                                                                                                                                   9\n",
      "Name: hours, dtype: int64\n"
     ]
    }
   ],
   "source": [
    "hours_count = df['hours'].value_counts()\n",
    "print(hours_count[0:10])"
   ]
  },
  {
   "cell_type": "code",
   "execution_count": 30,
   "metadata": {},
   "outputs": [
    {
     "name": "stdout",
     "output_type": "stream",
     "text": [
      "us/colorado/denver/denverinternationalairport/1021883261    5\n",
      "us/colorado/westminster/7655west108thave/-368805767         5\n",
      "us/california/napa/1executiveway/381950075                  5\n",
      "us/in/chesterton/1535scalumetrd/-1543617715                 5\n",
      "us/colorado/arvada/5600oldewadsworthblvd/1936691348         5\n",
      "us/ar/rogers/2001sbellviewrd2/1958090811                    5\n",
      "us/va/charlottesville/3624lenoxave/554746294                5\n",
      "us/in/mishawaka/3703nmainst/-1968924724                     4\n",
      "us/in/mishawaka/6501graperdste1000/1241605439               4\n",
      "us/va/charlottesville/1000wmainst/453851857                 4\n",
      "Name: keys, dtype: int64\n"
     ]
    }
   ],
   "source": [
    "keys_count = df['keys'].value_counts()\n",
    "print(keys_count[0:10])"
   ]
  },
  {
   "cell_type": "code",
   "execution_count": 70,
   "metadata": {},
   "outputs": [],
   "source": [
    "cats = pd.DataFrame(df['categories'])"
   ]
  },
  {
   "cell_type": "code",
   "execution_count": 80,
   "metadata": {},
   "outputs": [],
   "source": [
    "cats_clean = cats['categories'].str.lower()\n",
    "cats_clean = cats_clean.str.replace('&',',')\n",
    "cats_clean = cats_clean.str.replace('and', ',')\n",
    "cats_clean = cats_clean.str.replace('brewers','brewery')\n",
    "cats_clean = cats_clean.str.replace('food','restaurant')"
   ]
  },
  {
   "cell_type": "code",
   "execution_count": 78,
   "metadata": {},
   "outputs": [
    {
     "data": {
      "text/plain": [
       "0                                        brewery\n",
       "1               office , cafeteria brewer's hill\n",
       "2                        brewery downtown clovis\n",
       "3                          breweries , brew pubs\n",
       "4    brewery , gastropub downtown jeffersonville\n",
       "Name: categories, dtype: object"
      ]
     },
     "execution_count": 78,
     "metadata": {},
     "output_type": "execute_result"
    }
   ],
   "source": [
    "cats_clean.head()"
   ]
  },
  {
   "cell_type": "code",
   "execution_count": 79,
   "metadata": {},
   "outputs": [
    {
     "name": "stdout",
     "output_type": "stream",
     "text": [
      "brewery                                      4867\n",
      "wineries,brewery                              325\n",
      "wineries,vineyards,brewery                    322\n",
      "breweries,restaurant , drink                  270\n",
      "attraction,bars,clubs , nightlife,brewery     218\n",
      "breweries , brew pubs                         206\n",
      "brewery,wineries                              202\n",
      "beverage manufacturers,breweries              189\n",
      "brewery,brewery                               175\n",
      "brewery,restaurant                            162\n",
      "restaurant,brewery                            135\n",
      "restaurant , drink,breweries                  125\n",
      "breweries                                      87\n",
      "brewery,american restaurant                    74\n",
      "brewery,bar                                    71\n",
      "restaurant,pubs,brewery                        70\n",
      "breweries,wholesale restaurants                60\n",
      "bottlers,beverage manufacturers,breweries      59\n",
      "brewery,beer garden                            59\n",
      "restaurant,american,pubs,brewery               56\n",
      "Name: categories, dtype: int64\n"
     ]
    }
   ],
   "source": [
    "cats_count = cats_clean.value_counts()\n",
    "print(cats_count[0:20])"
   ]
  },
  {
   "cell_type": "code",
   "execution_count": 38,
   "metadata": {},
   "outputs": [
    {
     "name": "stdout",
     "output_type": "stream",
     "text": [
      "Brewers                                        2727\n",
      "Brewery                                        2053\n",
      "Wineries,Brewers                                325\n",
      "Wineries,Vineyards,Brewers                      322\n",
      "Breweries,Food & Drink                          270\n",
      "Attraction,Bars,Clubs and Nightlife,Brewery     218\n",
      "Brewers,Wineries                                202\n",
      "Beverage Manufacturers,Breweries                189\n",
      "breweries & brew pubs                           150\n",
      "Restaurant,Brewery                              128\n",
      "Food & Drink,Breweries                          125\n",
      "Brewery,Restaurant                              109\n",
      "Brewery,Brewers                                  86\n",
      "brewery                                          85\n",
      "Brewers,Brewery                                  82\n",
      "Brewery,American Restaurant                      74\n",
      "Breweries                                        71\n",
      "Restaurant,Pubs,Brewery                          70\n",
      "Brewery,Bar                                      69\n",
      "Breweries,Wholesale Foods                        60\n",
      "Name: categories, dtype: int64\n"
     ]
    }
   ],
   "source": [
    "print(category_count[0:20])"
   ]
  },
  {
   "cell_type": "code",
   "execution_count": null,
   "metadata": {},
   "outputs": [],
   "source": []
  },
  {
   "cell_type": "code",
   "execution_count": null,
   "metadata": {},
   "outputs": [],
   "source": []
  },
  {
   "cell_type": "code",
   "execution_count": null,
   "metadata": {
    "collapsed": true
   },
   "outputs": [],
   "source": []
  }
 ],
 "metadata": {
  "kernelspec": {
   "display_name": "Python 3",
   "language": "python",
   "name": "python3"
  },
  "language_info": {
   "codemirror_mode": {
    "name": "ipython",
    "version": 3
   },
   "file_extension": ".py",
   "mimetype": "text/x-python",
   "name": "python",
   "nbconvert_exporter": "python",
   "pygments_lexer": "ipython3",
   "version": "3.6.1"
  }
 },
 "nbformat": 4,
 "nbformat_minor": 2
}
